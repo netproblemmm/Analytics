{
 "cells": [
  {
   "cell_type": "markdown",
   "metadata": {
    "id": "TwYHIEPTcfNz"
   },
   "source": [
    "<p style=\"align: center;\"><img align=center src=\"https://mailfit.com/wp-content/uploads/2019/11/lego-5.png\"  width=900></p>\n",
    "<h1 style=\"text-align: center;\"><b>«Практика. ЦПТ»</b></h3>\n"
   ]
  },
  {
   "cell_type": "markdown",
   "metadata": {
    "id": "21ie4YF8cfN2"
   },
   "source": [
    "# Вспомним теорию"
   ]
  },
  {
   "cell_type": "markdown",
   "metadata": {
    "id": "zdYE-8y4cfN2"
   },
   "source": [
    "<p style=\"align: center;\"><img align=center src=\"data:image/png;base64,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\"  width=600></p>\n"
   ]
  },
  {
   "cell_type": "markdown",
   "metadata": {
    "id": "3McYCKsjcfN3"
   },
   "source": [
    "# Кейс с игрой Cookie Cats"
   ]
  },
  {
   "cell_type": "markdown",
   "metadata": {
    "id": "rn35z9JfcfN4"
   },
   "source": [
    "<div class=\"alert alert-info\">\n",
    "Cookie Cats - чрезвычайно популярная мобильная игра-головоломка, разработанная Tactile Entertainment. Это классическая игра-головоломка в стиле «три в ряд», в которой игрок должен соединять плитки одного цвета, чтобы очистить поле и выиграть уровень. Здесь также есть поющие кошки. Посмотрите эту короткую демонстрацию:\n",
    "</div>"
   ]
  },
  {
   "cell_type": "markdown",
   "metadata": {
    "id": "Z6yxWNV-cfN4"
   },
   "source": [
    "<p style=\"align: center;\"><img align=center src=\"https://i.ytimg.com/vi/iPxZIp0cbJE/maxresdefault.jpg\"  width=500></p>\n",
    "\n",
    "\n",
    "<p style=\"align: center;\"><img align=center src=\"https://s3.amazonaws.com/assets.datacamp.com/production/project_184/img/cc_gates.png\"  width=500></p>\n"
   ]
  },
  {
   "cell_type": "markdown",
   "metadata": {
    "id": "8Q2mPbuOcfN5"
   },
   "source": [
    "<div class=\"alert alert-info\">\n",
    "По мере прохождения уровней игры игроки время от времени сталкиваются с воротами, которые заставляют их ждать нетривиальное количество времени или совершать покупки в приложении, чтобы продолжить. Помимо стимулирования покупок в приложении, эти ворота имеют цель - дать игрокам вынужденный перерыв в игре, что, как мы надеемся, приведет к увеличению и продлению удовольствия от игры.\n",
    "</div>"
   ]
  },
  {
   "cell_type": "markdown",
   "metadata": {
    "id": "x3YStb32cfN5"
   },
   "source": [
    "<div class=\"alert alert-info\">\n",
    "<b>Но где ставить ворота? </b>\n",
    "Первоначально первые ворота были размещены на уровне 30. В этом проекте вам предлагается проанализировать AB-тест, в котором создатели переместили первые ворота в Cookie Cats с 30 уровня на уровень 40.\n",
    "</div>"
   ]
  },
  {
   "cell_type": "markdown",
   "metadata": {
    "id": "ZuPqBRhycfN6"
   },
   "source": [
    "# Данные A/B тестирования"
   ]
  },
  {
   "cell_type": "code",
   "execution_count": 13,
   "metadata": {
    "id": "go5HvNeKcfN6"
   },
   "outputs": [],
   "source": [
    "import pandas as pd\n",
    "import numpy as np"
   ]
  },
  {
   "cell_type": "code",
   "execution_count": 14,
   "metadata": {
    "id": "3JKM_hfYcfN7",
    "outputId": "65841cc4-c65e-4b8b-8578-1a4e85ad091d"
   },
   "outputs": [
    {
     "data": {
      "text/html": [
       "<div>\n",
       "<style scoped>\n",
       "    .dataframe tbody tr th:only-of-type {\n",
       "        vertical-align: middle;\n",
       "    }\n",
       "\n",
       "    .dataframe tbody tr th {\n",
       "        vertical-align: top;\n",
       "    }\n",
       "\n",
       "    .dataframe thead th {\n",
       "        text-align: right;\n",
       "    }\n",
       "</style>\n",
       "<table border=\"1\" class=\"dataframe\">\n",
       "  <thead>\n",
       "    <tr style=\"text-align: right;\">\n",
       "      <th></th>\n",
       "      <th>userid</th>\n",
       "      <th>version</th>\n",
       "      <th>sum_gamerounds</th>\n",
       "      <th>retention_1</th>\n",
       "      <th>retention_7</th>\n",
       "    </tr>\n",
       "  </thead>\n",
       "  <tbody>\n",
       "    <tr>\n",
       "      <th>0</th>\n",
       "      <td>116</td>\n",
       "      <td>gate_30</td>\n",
       "      <td>3</td>\n",
       "      <td>False</td>\n",
       "      <td>False</td>\n",
       "    </tr>\n",
       "    <tr>\n",
       "      <th>1</th>\n",
       "      <td>337</td>\n",
       "      <td>gate_30</td>\n",
       "      <td>38</td>\n",
       "      <td>True</td>\n",
       "      <td>False</td>\n",
       "    </tr>\n",
       "    <tr>\n",
       "      <th>2</th>\n",
       "      <td>377</td>\n",
       "      <td>gate_40</td>\n",
       "      <td>165</td>\n",
       "      <td>True</td>\n",
       "      <td>False</td>\n",
       "    </tr>\n",
       "    <tr>\n",
       "      <th>3</th>\n",
       "      <td>483</td>\n",
       "      <td>gate_40</td>\n",
       "      <td>1</td>\n",
       "      <td>False</td>\n",
       "      <td>False</td>\n",
       "    </tr>\n",
       "    <tr>\n",
       "      <th>4</th>\n",
       "      <td>488</td>\n",
       "      <td>gate_40</td>\n",
       "      <td>179</td>\n",
       "      <td>True</td>\n",
       "      <td>True</td>\n",
       "    </tr>\n",
       "  </tbody>\n",
       "</table>\n",
       "</div>"
      ],
      "text/plain": [
       "   userid  version  sum_gamerounds  retention_1  retention_7\n",
       "0     116  gate_30               3        False        False\n",
       "1     337  gate_30              38         True        False\n",
       "2     377  gate_40             165         True        False\n",
       "3     483  gate_40               1        False        False\n",
       "4     488  gate_40             179         True         True"
      ]
     },
     "execution_count": 14,
     "metadata": {},
     "output_type": "execute_result"
    }
   ],
   "source": [
    "cookie_cats = 'https://raw.githubusercontent.com/a-milenkin/datasets_for_t-tests/main/cookie_cats.csv'\n",
    "#data = pd.read_csv(cookie_cats, error_bad_lines=False)  # Откроем датасет\n",
    "data = pd.read_csv(cookie_cats)  # Откроем датасет\n",
    "data.head()"
   ]
  },
  {
   "cell_type": "markdown",
   "metadata": {
    "id": "2j4my82AcfN8"
   },
   "source": [
    "**Данные получены от 90.189 игроков, которые установили игру во время проведения AB-теста. Переменные:**\n",
    "\n",
    "* `userid` - уникальный номер, идентифицирующий каждого игрока.\n",
    "\n",
    "* `version` - был ли игрок помещен в контрольную группу (gate_30 - ворота на уровне 30) или в тестовую группу (gate_40 - ворота на уровне 40).\n",
    "\n",
    "* `sum_gamerounds` - количество игровых раундов, сыгранных игроком в течение первой недели после установки\n",
    "* `retention_1` - игрок вернулся и поиграл через 1 день после установки?\n",
    "* `retention_7` - игрок вернулся и играл через 7 дней после установки?\n",
    "\n",
    "Когда игрок устанавливал игру, ему случайным образом назначали `gate_30` или `gate_40`."
   ]
  },
  {
   "cell_type": "markdown",
   "metadata": {
    "id": "htbCGBuTcfN8"
   },
   "source": [
    "<div class=\"alert alert-info\">\n",
    "<b>Задание: провести анализ данных и сделать выводы о лучшем месте для установки ворот. </b>\n",
    "    \n",
    "Замечание: приведенных вспомогательных фрагментов кода не хватает для ответа на вопрос.\n",
    "Нам будет помогать построение визуализиции для понимания распределения данных. Рекомендую использовать `seaborn` c его `sns.boxplot`/`sns.carplot`, `sns.barplot`, но можно обойтись и обычном `matplotlib`\n",
    "</div>"
   ]
  },
  {
   "cell_type": "code",
   "execution_count": 15,
   "metadata": {
    "id": "7DvvjQcIcfN8",
    "outputId": "cdb52ff6-ec46-41bb-b0b9-f1cead3fa7a2"
   },
   "outputs": [
    {
     "data": {
      "text/html": [
       "<div>\n",
       "<style scoped>\n",
       "    .dataframe tbody tr th:only-of-type {\n",
       "        vertical-align: middle;\n",
       "    }\n",
       "\n",
       "    .dataframe tbody tr th {\n",
       "        vertical-align: top;\n",
       "    }\n",
       "\n",
       "    .dataframe thead th {\n",
       "        text-align: right;\n",
       "    }\n",
       "</style>\n",
       "<table border=\"1\" class=\"dataframe\">\n",
       "  <thead>\n",
       "    <tr style=\"text-align: right;\">\n",
       "      <th></th>\n",
       "      <th>userid</th>\n",
       "      <th>sum_gamerounds</th>\n",
       "      <th>retention_1</th>\n",
       "      <th>retention_7</th>\n",
       "    </tr>\n",
       "    <tr>\n",
       "      <th>version</th>\n",
       "      <th></th>\n",
       "      <th></th>\n",
       "      <th></th>\n",
       "      <th></th>\n",
       "    </tr>\n",
       "  </thead>\n",
       "  <tbody>\n",
       "    <tr>\n",
       "      <th>gate_30</th>\n",
       "      <td>44700</td>\n",
       "      <td>44700</td>\n",
       "      <td>44700</td>\n",
       "      <td>44700</td>\n",
       "    </tr>\n",
       "    <tr>\n",
       "      <th>gate_40</th>\n",
       "      <td>45489</td>\n",
       "      <td>45489</td>\n",
       "      <td>45489</td>\n",
       "      <td>45489</td>\n",
       "    </tr>\n",
       "  </tbody>\n",
       "</table>\n",
       "</div>"
      ],
      "text/plain": [
       "         userid  sum_gamerounds  retention_1  retention_7\n",
       "version                                                  \n",
       "gate_30   44700           44700        44700        44700\n",
       "gate_40   45489           45489        45489        45489"
      ]
     },
     "execution_count": 15,
     "metadata": {},
     "output_type": "execute_result"
    }
   ],
   "source": [
    "# Сгруппируем результаты теста по версиям игры\n",
    "data.groupby('version').count()"
   ]
  },
  {
   "cell_type": "markdown",
   "metadata": {
    "id": "tuj5KD7jcfN8"
   },
   "source": [
    "# Посмотрим на распределения в каждой группе"
   ]
  },
  {
   "cell_type": "markdown",
   "metadata": {
    "id": "ur-fntYfcfN8"
   },
   "source": [
    "<div class=\"alert alert-info\">\n",
    "Гистограмма позволяет зрительно оценить распределение данных. Гистограмма дает информацию о разбросе, средних значениях.\n",
    "Важно иметь нормальное распределение, чтобы в дальнейшем мы могли их анализировать, для других критериев распределение не имеет значения.\n",
    "</div>"
   ]
  },
  {
   "cell_type": "code",
   "execution_count": 16,
   "metadata": {
    "id": "4CIvkw6UcfN8"
   },
   "outputs": [],
   "source": [
    "import matplotlib.pyplot as plt"
   ]
  },
  {
   "cell_type": "code",
   "execution_count": 18,
   "metadata": {},
   "outputs": [
    {
     "data": {
      "text/html": [
       "<div>\n",
       "<style scoped>\n",
       "    .dataframe tbody tr th:only-of-type {\n",
       "        vertical-align: middle;\n",
       "    }\n",
       "\n",
       "    .dataframe tbody tr th {\n",
       "        vertical-align: top;\n",
       "    }\n",
       "\n",
       "    .dataframe thead th {\n",
       "        text-align: right;\n",
       "    }\n",
       "</style>\n",
       "<table border=\"1\" class=\"dataframe\">\n",
       "  <thead>\n",
       "    <tr style=\"text-align: right;\">\n",
       "      <th></th>\n",
       "      <th>userid</th>\n",
       "      <th>version</th>\n",
       "      <th>sum_gamerounds</th>\n",
       "      <th>retention_1</th>\n",
       "      <th>retention_7</th>\n",
       "    </tr>\n",
       "  </thead>\n",
       "  <tbody>\n",
       "    <tr>\n",
       "      <th>0</th>\n",
       "      <td>116</td>\n",
       "      <td>gate_30</td>\n",
       "      <td>3</td>\n",
       "      <td>False</td>\n",
       "      <td>False</td>\n",
       "    </tr>\n",
       "    <tr>\n",
       "      <th>1</th>\n",
       "      <td>337</td>\n",
       "      <td>gate_30</td>\n",
       "      <td>38</td>\n",
       "      <td>True</td>\n",
       "      <td>False</td>\n",
       "    </tr>\n",
       "    <tr>\n",
       "      <th>6</th>\n",
       "      <td>1066</td>\n",
       "      <td>gate_30</td>\n",
       "      <td>0</td>\n",
       "      <td>False</td>\n",
       "      <td>False</td>\n",
       "    </tr>\n",
       "    <tr>\n",
       "      <th>11</th>\n",
       "      <td>2101</td>\n",
       "      <td>gate_30</td>\n",
       "      <td>0</td>\n",
       "      <td>False</td>\n",
       "      <td>False</td>\n",
       "    </tr>\n",
       "    <tr>\n",
       "      <th>13</th>\n",
       "      <td>2179</td>\n",
       "      <td>gate_30</td>\n",
       "      <td>39</td>\n",
       "      <td>True</td>\n",
       "      <td>False</td>\n",
       "    </tr>\n",
       "  </tbody>\n",
       "</table>\n",
       "</div>"
      ],
      "text/plain": [
       "    userid  version  sum_gamerounds  retention_1  retention_7\n",
       "0      116  gate_30               3        False        False\n",
       "1      337  gate_30              38         True        False\n",
       "6     1066  gate_30               0        False        False\n",
       "11    2101  gate_30               0        False        False\n",
       "13    2179  gate_30              39         True        False"
      ]
     },
     "execution_count": 18,
     "metadata": {},
     "output_type": "execute_result"
    }
   ],
   "source": [
    "v_30 = data.loc[data.version == 'gate_30']\n",
    "v_30.head()"
   ]
  },
  {
   "cell_type": "code",
   "execution_count": 17,
   "metadata": {
    "id": "uXBgtoW8cfN9",
    "outputId": "4d84ffea-ad65-4d84-b76d-84124da5e860"
   },
   "outputs": [
    {
     "data": {
      "image/png": "[encoded data removed]",
      "text/plain": [
       "<Figure size 1500x1000 with 1 Axes>"
      ]
     },
     "metadata": {},
     "output_type": "display_data"
    }
   ],
   "source": [
    "v_30 = data.loc[data.version == 'gate_30']\n",
    "v_40 = data.loc[data.version == 'gate_40']\n",
    "\n",
    "v_30 = v_30.drop(v_30.loc[v_30.sum_gamerounds > 200].index)\n",
    "v_40 = v_40.drop(v_40.loc[v_40.sum_gamerounds > 200].index)\n",
    "\n",
    "bins = 200\n",
    "plt.figure(figsize=(15, 10))\n",
    "plt.hist(v_30['sum_gamerounds'], bins=bins, alpha=1, edgecolor='black', label='gate 30')\n",
    "plt.hist(v_40['sum_gamerounds'], bins=bins, alpha=0.7, label='gate 40')\n",
    "plt.legend(loc='upper right', bbox_to_anchor=(0.45, 0.35))\n",
    "plt.show()"
   ]
  },
  {
   "cell_type": "markdown",
   "metadata": {
    "id": "QOmy7GHMeszB"
   },
   "source": []
  },
  {
   "cell_type": "code",
   "execution_count": null,
   "metadata": {
    "id": "q6KO4PjPcfN9"
   },
   "outputs": [],
   "source": [
    "#Как получить нормальное распределение в данных?\n",
    "# plt.hist(np.log(v_30['sum_gamerounds']+0.001), bins=15, alpha=1, edgecolor='black', label='gate 30', density=True);\n",
    "# plt.hist(np.log(v_40['sum_gamerounds']+0.001), bins=15, alpha=1, edgecolor='black', label='gate 40', density=True);"
   ]
  },
  {
   "cell_type": "markdown",
   "metadata": {
    "id": "b1ti0KDzcfN9"
   },
   "source": [
    "**Ваши выводы**"
   ]
  },
  {
   "cell_type": "code",
   "execution_count": null,
   "metadata": {
    "id": "ClkOmhGscfN9"
   },
   "outputs": [],
   "source": [
    "import seaborn as sns"
   ]
  },
  {
   "cell_type": "code",
   "execution_count": null,
   "metadata": {
    "id": "xBVvnjbvcfN9",
    "outputId": "ac35e61e-4a3a-4df9-ce90-21ba5a15b801"
   },
   "outputs": [
    {
     "data": {
      "image/png": "[encoded data removed]",
      "text/plain": [
       "<Figure size 748.875x360 with 2 Axes>"
      ]
     },
     "metadata": {
      "needs_background": "light"
     },
     "output_type": "display_data"
    }
   ],
   "source": [
    "df = data.loc[data['sum_gamerounds'] < 100].copy();\n",
    "\n",
    "sns.catplot(x=\"version\", y=\"sum_gamerounds\",\n",
    "            hue=\"retention_1\", col = 'retention_7',\n",
    "            data=df, kind=\"box\",\n",
    "            height=5, aspect=.95);\n"
   ]
  },
  {
   "cell_type": "markdown",
   "metadata": {
    "id": "j2qbRLnjcfN9"
   },
   "source": [
    "# ЦПТ в деле !!!!"
   ]
  },
  {
   "cell_type": "code",
   "execution_count": null,
   "metadata": {
    "id": "ee7LTcTKcfN9",
    "outputId": "ca87ba11-0113-4378-adb8-21d1b9196ff0"
   },
   "outputs": [
    {
     "data": {
      "text/plain": [
       "<Figure size 1080x720 with 0 Axes>"
      ]
     },
     "metadata": {},
     "output_type": "display_data"
    },
    {
     "data": {
      "image/png": "[encoded data removed]",
      "text/plain": [
       "<Figure size 432x288 with 1 Axes>"
      ]
     },
     "metadata": {
      "needs_background": "light"
     },
     "output_type": "display_data"
    }
   ],
   "source": [
    "# tqdm\n",
    "\n",
    "#Если вдруг оказалось сложно, то вот еще ододин способ визуализации различий\n",
    "# Creating an list with bootstrapped means for each AB-group\n",
    "plt.figure(figsize=(15, 10))\n",
    "\n",
    "boot_1d = []\n",
    "for i in range(1000):\n",
    "    boot_mean = data.sample(frac = 1, replace = True).groupby('version')['retention_7'].mean()  #retention_1\n",
    "    boot_1d.append(boot_mean)\n",
    "\n",
    "# Преобразование списка в DataFrame\n",
    "boot_1d = pd.DataFrame(boot_1d)\n",
    "\n",
    "# A Kernel Density Estimate plot of the bootstrap distributions\n",
    "boot_1d.plot(kind='density');"
   ]
  }
 ],
 "metadata": {
  "colab": {
   "provenance": []
  },
  "kernelspec": {
   "display_name": "Python 3 (ipykernel)",
   "language": "python",
   "name": "python3"
  },
  "language_info": {
   "codemirror_mode": {
    "name": "ipython",
    "version": 3
   },
   "file_extension": ".py",
   "mimetype": "text/x-python",
   "name": "python",
   "nbconvert_exporter": "python",
   "pygments_lexer": "ipython3",
   "version": "3.13.1"
  },
  "toc": {
   "base_numbering": 1,
   "nav_menu": {},
   "number_sections": true,
   "sideBar": true,
   "skip_h1_title": false,
   "title_cell": "Table of Contents",
   "title_sidebar": "Contents",
   "toc_cell": false,
   "toc_position": {},
   "toc_section_display": true,
   "toc_window_display": false
  }
 },
 "nbformat": 4,
 "nbformat_minor": 4
}
