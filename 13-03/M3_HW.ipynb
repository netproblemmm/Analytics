{
 "cells": [
  {
   "cell_type": "code",
   "execution_count": 2,
   "metadata": {},
   "outputs": [],
   "source": [
    "import numpy as np\n",
    "import pandas as pd\n",
    "\n",
    "import scipy\n",
    "\n",
    "import matplotlib.pyplot as plt\n",
    "import seaborn as sns\n",
    "sns.set_theme()"
   ]
  },
  {
   "cell_type": "markdown",
   "metadata": {},
   "source": [
    "<p style=\"align: center;\"><img align=center src=\"https://mailfit.com/wp-content/uploads/2019/11/lego-5.png\"  width=900></p>\n",
    "<h1 style=\"text-align: center;\"><b>«Домашняя работа»</b></h3>\n"
   ]
  },
  {
   "cell_type": "code",
   "execution_count": 146,
   "metadata": {},
   "outputs": [
    {
     "name": "stdout",
     "output_type": "stream",
     "text": [
      "Размеры датасета (6000, 9)\n"
     ]
    },
    {
     "data": {
      "text/html": [
       "<div>\n",
       "<style scoped>\n",
       "    .dataframe tbody tr th:only-of-type {\n",
       "        vertical-align: middle;\n",
       "    }\n",
       "\n",
       "    .dataframe tbody tr th {\n",
       "        vertical-align: top;\n",
       "    }\n",
       "\n",
       "    .dataframe thead th {\n",
       "        text-align: right;\n",
       "    }\n",
       "</style>\n",
       "<table border=\"1\" class=\"dataframe\">\n",
       "  <thead>\n",
       "    <tr style=\"text-align: right;\">\n",
       "      <th></th>\n",
       "      <th>was_married</th>\n",
       "      <th>children</th>\n",
       "      <th>salary</th>\n",
       "      <th>sex</th>\n",
       "      <th>age</th>\n",
       "      <th>profession</th>\n",
       "      <th>home_cost</th>\n",
       "      <th>drive_info</th>\n",
       "      <th>happyness</th>\n",
       "    </tr>\n",
       "    <tr>\n",
       "      <th>id</th>\n",
       "      <th></th>\n",
       "      <th></th>\n",
       "      <th></th>\n",
       "      <th></th>\n",
       "      <th></th>\n",
       "      <th></th>\n",
       "      <th></th>\n",
       "      <th></th>\n",
       "      <th></th>\n",
       "    </tr>\n",
       "  </thead>\n",
       "  <tbody>\n",
       "    <tr>\n",
       "      <th>0</th>\n",
       "      <td>1</td>\n",
       "      <td>4.0</td>\n",
       "      <td>4.420530e+07</td>\n",
       "      <td>1</td>\n",
       "      <td>82.0</td>\n",
       "      <td>Engineer</td>\n",
       "      <td>1.003674e+07</td>\n",
       "      <td>NaN</td>\n",
       "      <td>0.727499</td>\n",
       "    </tr>\n",
       "    <tr>\n",
       "      <th>1</th>\n",
       "      <td>1</td>\n",
       "      <td>2.0</td>\n",
       "      <td>1.737490e+08</td>\n",
       "      <td>1</td>\n",
       "      <td>32.0</td>\n",
       "      <td>Doctor</td>\n",
       "      <td>1.014051e+07</td>\n",
       "      <td>0.0</td>\n",
       "      <td>0.383234</td>\n",
       "    </tr>\n",
       "    <tr>\n",
       "      <th>2</th>\n",
       "      <td>1</td>\n",
       "      <td>6.0</td>\n",
       "      <td>2.489055e+08</td>\n",
       "      <td>1</td>\n",
       "      <td>14.0</td>\n",
       "      <td>Entertainment</td>\n",
       "      <td>1.043318e+07</td>\n",
       "      <td>NaN</td>\n",
       "      <td>0.432142</td>\n",
       "    </tr>\n",
       "    <tr>\n",
       "      <th>3</th>\n",
       "      <td>0</td>\n",
       "      <td>1.0</td>\n",
       "      <td>1.268718e+08</td>\n",
       "      <td>0</td>\n",
       "      <td>10.0</td>\n",
       "      <td>Lawyer</td>\n",
       "      <td>1.004299e+07</td>\n",
       "      <td>NaN</td>\n",
       "      <td>0.377987</td>\n",
       "    </tr>\n",
       "    <tr>\n",
       "      <th>4</th>\n",
       "      <td>1</td>\n",
       "      <td>9.0</td>\n",
       "      <td>8.596042e+07</td>\n",
       "      <td>1</td>\n",
       "      <td>99.0</td>\n",
       "      <td>Artist</td>\n",
       "      <td>1.021908e+07</td>\n",
       "      <td>NaN</td>\n",
       "      <td>0.657579</td>\n",
       "    </tr>\n",
       "  </tbody>\n",
       "</table>\n",
       "</div>"
      ],
      "text/plain": [
       "    was_married  children        salary  sex   age     profession  \\\n",
       "id                                                                  \n",
       "0             1       4.0  4.420530e+07    1  82.0       Engineer   \n",
       "1             1       2.0  1.737490e+08    1  32.0         Doctor   \n",
       "2             1       6.0  2.489055e+08    1  14.0  Entertainment   \n",
       "3             0       1.0  1.268718e+08    0  10.0         Lawyer   \n",
       "4             1       9.0  8.596042e+07    1  99.0         Artist   \n",
       "\n",
       "       home_cost  drive_info  happyness  \n",
       "id                                       \n",
       "0   1.003674e+07         NaN   0.727499  \n",
       "1   1.014051e+07         0.0   0.383234  \n",
       "2   1.043318e+07         NaN   0.432142  \n",
       "3   1.004299e+07         NaN   0.377987  \n",
       "4   1.021908e+07         NaN   0.657579  "
      ]
     },
     "execution_count": 146,
     "metadata": {},
     "output_type": "execute_result"
    }
   ],
   "source": [
    "data_path = \"https://raw.githubusercontent.com/a-milenkin/mipt_data_science_2021/main/data/people_data_clustering.csv\"\n",
    "data = pd.read_csv(data_path, index_col=0)\n",
    "print(\"Размеры датасета\", data.shape)\n",
    "data.head()"
   ]
  },
  {
   "cell_type": "code",
   "execution_count": null,
   "metadata": {},
   "outputs": [],
   "source": [
    " "
   ]
  },
  {
   "cell_type": "markdown",
   "metadata": {},
   "source": [
    "<div class=\"alert alert-info\">\n",
    "<b>Про Датасет</b>\n",
    "    \n",
    "Датасет представляет собой информацию по жителям некоторого города.\n",
    "\n",
    "* `was_married` - Был ли когда-либо женат/замужем\n",
    "* `children` - Количество детей\n",
    "* `salary` - Уровень зарплаты\n",
    "* `sex` - Пол (0 - женщина, 1 - мужчина)\n",
    "* `age` - Возраст\n",
    "* `home_cost` - Сумарная стоимость жилья/недвижимости\n",
    "* `Professon` - Профессия\n",
    "* `drive_info` - Есть ли водительские права\n",
    "* `happyness` - уровень счастья по результатам опроса\n",
    "    \n",
    "</div>"
   ]
  },
  {
   "cell_type": "markdown",
   "metadata": {},
   "source": [
    "<div class=\"alert alert-info\">\n",
    "<b>Задание</b>\n",
    "\n",
    "Изучить датасет, выполнить задания и проверить некоторые гипотезы, предложенные ниже, используя только визуализацию."
   ]
  },
  {
   "cell_type": "markdown",
   "metadata": {},
   "source": [
    "# Изучение датасета \n",
    "* Какие признаки численные?\n",
    "* Какие признаки категориальные?\n",
    "* Какие признаки имеют нормальное распределение?\n",
    "* Какие признаки бессмысленные?"
   ]
  },
  {
   "cell_type": "code",
   "execution_count": null,
   "metadata": {},
   "outputs": [],
   "source": [
    "Численные - children, salary, age, home_cost, happyness\n",
    "Категориальные - was_married, sex, Profession, drive_info\n",
    "Нормального распределения - нет ни у одного признака\n",
    "Бессмысленные:\n",
    "- age (нет значений с 34 до 80),\n",
    "- salary, home_cost (странные значения в десятки и сотни миллионов)"
   ]
  },
  {
   "cell_type": "markdown",
   "metadata": {},
   "source": [
    "# Чистка датасета\n",
    "* Есть ли дубли в данных? Если есть - удалить их (`drop_duplicates`). \n",
    "* Есть ли пропуски в данных? Если есть - удалить столбцы, в которых они есть. (`dropna()`)\n",
    "* Найти и удалить выбросы по признаку `home_cost`. Сколько их?"
   ]
  },
  {
   "cell_type": "code",
   "execution_count": 147,
   "metadata": {},
   "outputs": [],
   "source": [
    "data.drop_duplicates(keep='first', inplace=True)\n",
    "data.dropna(how='any',inplace=True)"
   ]
  },
  {
   "cell_type": "code",
   "execution_count": 148,
   "metadata": {},
   "outputs": [
    {
     "data": {
      "text/html": [
       "<div>\n",
       "<style scoped>\n",
       "    .dataframe tbody tr th:only-of-type {\n",
       "        vertical-align: middle;\n",
       "    }\n",
       "\n",
       "    .dataframe tbody tr th {\n",
       "        vertical-align: top;\n",
       "    }\n",
       "\n",
       "    .dataframe thead th {\n",
       "        text-align: right;\n",
       "    }\n",
       "</style>\n",
       "<table border=\"1\" class=\"dataframe\">\n",
       "  <thead>\n",
       "    <tr style=\"text-align: right;\">\n",
       "      <th></th>\n",
       "      <th>was_married</th>\n",
       "      <th>children</th>\n",
       "      <th>salary</th>\n",
       "      <th>sex</th>\n",
       "      <th>age</th>\n",
       "      <th>profession</th>\n",
       "      <th>home_cost</th>\n",
       "      <th>drive_info</th>\n",
       "      <th>happyness</th>\n",
       "    </tr>\n",
       "    <tr>\n",
       "      <th>id</th>\n",
       "      <th></th>\n",
       "      <th></th>\n",
       "      <th></th>\n",
       "      <th></th>\n",
       "      <th></th>\n",
       "      <th></th>\n",
       "      <th></th>\n",
       "      <th></th>\n",
       "      <th></th>\n",
       "    </tr>\n",
       "  </thead>\n",
       "  <tbody>\n",
       "    <tr>\n",
       "      <th>1</th>\n",
       "      <td>1</td>\n",
       "      <td>2</td>\n",
       "      <td>173748959</td>\n",
       "      <td>1</td>\n",
       "      <td>32</td>\n",
       "      <td>Doctor</td>\n",
       "      <td>10140513</td>\n",
       "      <td>0</td>\n",
       "      <td>38</td>\n",
       "    </tr>\n",
       "    <tr>\n",
       "      <th>5</th>\n",
       "      <td>1</td>\n",
       "      <td>3</td>\n",
       "      <td>2474979</td>\n",
       "      <td>0</td>\n",
       "      <td>21</td>\n",
       "      <td>Homemaker</td>\n",
       "      <td>10016535</td>\n",
       "      <td>1</td>\n",
       "      <td>32</td>\n",
       "    </tr>\n",
       "    <tr>\n",
       "      <th>7</th>\n",
       "      <td>1</td>\n",
       "      <td>2</td>\n",
       "      <td>151408583</td>\n",
       "      <td>1</td>\n",
       "      <td>32</td>\n",
       "      <td>Doctor</td>\n",
       "      <td>10226684</td>\n",
       "      <td>1</td>\n",
       "      <td>40</td>\n",
       "    </tr>\n",
       "    <tr>\n",
       "      <th>8</th>\n",
       "      <td>1</td>\n",
       "      <td>1</td>\n",
       "      <td>12841162</td>\n",
       "      <td>1</td>\n",
       "      <td>9</td>\n",
       "      <td>Marketing</td>\n",
       "      <td>10173613</td>\n",
       "      <td>1</td>\n",
       "      <td>33</td>\n",
       "    </tr>\n",
       "    <tr>\n",
       "      <th>10</th>\n",
       "      <td>1</td>\n",
       "      <td>9</td>\n",
       "      <td>152437794</td>\n",
       "      <td>1</td>\n",
       "      <td>100</td>\n",
       "      <td>Artist</td>\n",
       "      <td>10376836</td>\n",
       "      <td>1</td>\n",
       "      <td>77</td>\n",
       "    </tr>\n",
       "  </tbody>\n",
       "</table>\n",
       "</div>"
      ],
      "text/plain": [
       "    was_married  children     salary  sex  age profession  home_cost  \\\n",
       "id                                                                     \n",
       "1             1         2  173748959    1   32     Doctor   10140513   \n",
       "5             1         3    2474979    0   21  Homemaker   10016535   \n",
       "7             1         2  151408583    1   32     Doctor   10226684   \n",
       "8             1         1   12841162    1    9  Marketing   10173613   \n",
       "10            1         9  152437794    1  100     Artist   10376836   \n",
       "\n",
       "    drive_info  happyness  \n",
       "id                         \n",
       "1            0         38  \n",
       "5            1         32  \n",
       "7            1         40  \n",
       "8            1         33  \n",
       "10           1         77  "
      ]
     },
     "execution_count": 148,
     "metadata": {},
     "output_type": "execute_result"
    }
   ],
   "source": [
    "data['children'] = data['children'].astype(int)\n",
    "data['salary'] = data['salary'].astype(int)\n",
    "data['age'] = data['age'].astype(int)\n",
    "data['home_cost'] = data['home_cost'].astype(int)\n",
    "data['drive_info'] = data['drive_info'].astype(int, errors = 'ignore')\n",
    "data['happyness'] = (data['happyness'] * 100).astype(int)\n",
    "data.head()"
   ]
  },
  {
   "cell_type": "raw",
   "metadata": {},
   "source": [
    "> Найти и удалить выбросы по признаку home_cost. Сколько их?\n",
    "- Они есть, например = 20657915, но не удалось увидеть, так как гистограмма строится автоматически по значению оси X как 2*1e7, не нашел, как отключить это (ниже гистограмма)"
   ]
  },
  {
   "cell_type": "code",
   "execution_count": 127,
   "metadata": {},
   "outputs": [
    {
     "name": "stdout",
     "output_type": "stream",
     "text": [
      "Минимум:  9838047\n",
      "Максимум:  20657915\n"
     ]
    }
   ],
   "source": [
    "print('Минимум: ',data['home_cost'].min())\n",
    "print('Максимум: ',data['home_cost'].max())"
   ]
  },
  {
   "cell_type": "code",
   "execution_count": 149,
   "metadata": {},
   "outputs": [
    {
     "data": {
      "image/png": "[encoded data removed]",
      "text/plain": [
       "<Figure size 1200x800 with 1 Axes>"
      ]
     },
     "metadata": {},
     "output_type": "display_data"
    }
   ],
   "source": [
    "plt.figure(figsize=(12, 8))\n",
    "plt.hist(data['home_cost'], bins = 50)\n",
    "plt.show()"
   ]
  },
  {
   "cell_type": "markdown",
   "metadata": {},
   "source": [
    "# Проверка гипотез"
   ]
  },
  {
   "cell_type": "markdown",
   "metadata": {},
   "source": [
    "Проверьте следующие гипотезы. Для доказательства - используйте визуализацию. (Статистические методы использовать не нужно)"
   ]
  },
  {
   "cell_type": "markdown",
   "metadata": {},
   "source": [
    "<div class=\"alert alert-warning\">\n",
    "    \n",
    "* Правда ли женщины в среднем имеют более высокую зарплату, чем мужчины?"
   ]
  },
  {
   "cell_type": "raw",
   "metadata": {},
   "source": [
    "Ответ: Нет"
   ]
  },
  {
   "cell_type": "code",
   "execution_count": 172,
   "metadata": {},
   "outputs": [
    {
     "name": "stdout",
     "output_type": "stream",
     "text": [
      "55198205\n",
      "98601242\n"
     ]
    },
    {
     "data": {
      "image/png": "[encoded data removed]",
      "text/plain": [
       "<Figure size 640x480 with 1 Axes>"
      ]
     },
     "metadata": {},
     "output_type": "display_data"
    }
   ],
   "source": [
    "compare_1_1 = data.loc[data['sex'] == 0]['salary'].mean().astype(int)\n",
    "compare_1_2 = data.loc[data['sex'] == 1]['salary'].mean().astype(int)\n",
    "\n",
    "using = ['Womens', 'Mens']\n",
    "visualization = [compare_1_1, compare_1_2]\n",
    "plt.bar(using, visualization, color = 'blue')\n",
    "plt.ylabel('Salary')\n",
    "plt.title('Средние зарплаты женщин и мужчин')\n",
    "print(compare_1_1)\n",
    "print(compare_1_2)\n",
    "plt.show()"
   ]
  },
  {
   "cell_type": "markdown",
   "metadata": {},
   "source": [
    "<div class=\"alert alert-warning\">\n",
    "    \n",
    "* Правда ли, что инженеры (Engineer) зарабатывают в среднем больше, чем люди из сферы развлечений (Entertainment)?"
   ]
  },
  {
   "cell_type": "raw",
   "metadata": {},
   "source": [
    "Ответ: Нет"
   ]
  },
  {
   "cell_type": "code",
   "execution_count": 173,
   "metadata": {},
   "outputs": [
    {
     "name": "stdout",
     "output_type": "stream",
     "text": [
      "42251422\n",
      "195255543\n"
     ]
    },
    {
     "data": {
      "image/png": "[encoded data removed]",
      "text/plain": [
       "<Figure size 640x480 with 1 Axes>"
      ]
     },
     "metadata": {},
     "output_type": "display_data"
    }
   ],
   "source": [
    "compare_2_1 = data.loc[data['profession'] == 'Engineer']['salary'].mean().astype(int)\n",
    "compare_2_2 = data.loc[data['profession'] == 'Entertainment']['salary'].mean().astype(int)\n",
    "\n",
    "using = ['Engineer', 'Entertainment']\n",
    "visualization = [compare_2_1, compare_2_2]\n",
    "plt.bar(using, visualization, color = 'violet')\n",
    "plt.ylabel('Salary')\n",
    "plt.title('Средние зарплаты Engineer и Entertainment')\n",
    "print(compare_2_1)\n",
    "print(compare_2_2)\n",
    "plt.show()"
   ]
  },
  {
   "cell_type": "markdown",
   "metadata": {},
   "source": [
    "<div class=\"alert alert-warning\">\n",
    "    \n",
    "* Правда ли, что те, у кого больше трех детей зарабатывают в среднем больше, чем те, у кого меньше или трое детей?"
   ]
  },
  {
   "cell_type": "raw",
   "metadata": {},
   "source": [
    "Ответ: Да"
   ]
  },
  {
   "cell_type": "code",
   "execution_count": 174,
   "metadata": {},
   "outputs": [
    {
     "name": "stdout",
     "output_type": "stream",
     "text": [
      "117448634\n",
      "66938956\n"
     ]
    },
    {
     "data": {
      "image/png": "[encoded data removed]",
      "text/plain": [
       "<Figure size 640x480 with 1 Axes>"
      ]
     },
     "metadata": {},
     "output_type": "display_data"
    }
   ],
   "source": [
    "compare_3_1 = data.loc[data['children'] > 3]['salary'].mean().astype(int)\n",
    "compare_3_2 = data.loc[data['children'] <= 3]['salary'].mean().astype(int)\n",
    "\n",
    "using = ['children > 3', 'children <= 3']\n",
    "visualization = [compare_3_1, compare_3_2]\n",
    "plt.bar(using, visualization, color = 'orange')\n",
    "plt.ylabel('Salary')\n",
    "plt.title('Средние зарплаты родителей, у кого > 3 детей и <= 3')\n",
    "print(compare_3_1)\n",
    "print(compare_3_2)\n",
    "plt.show()"
   ]
  },
  {
   "cell_type": "markdown",
   "metadata": {},
   "source": [
    "<div class=\"alert alert-warning\">\n",
    "    \n",
    "* Правда ли, что дома художники (Artist) живут в домах, которые в среднем дороже или дешевле, чем дома адвокатов (Lawyer)?"
   ]
  },
  {
   "cell_type": "markdown",
   "metadata": {},
   "source": [
    "Странно сформулирован вопрос, в нем два взаимоисключающих условия. Вопрос должен звучать как:\n",
    "\"Правда ли, что художники (Artist) живут в домах, которые в среднем дороже, чем дома адвокатов (Lawyer)?\"\n",
    "или так:\n",
    "\"Художники (Artist) живут в домах, которые в среднем дороже или дешевле, чем дома адвокатов (Lawyer)?\"\n",
    "На первый вопрос ответ \"Нет, неправда\", на второй - \"Дешевле\""
   ]
  },
  {
   "cell_type": "code",
   "execution_count": 175,
   "metadata": {},
   "outputs": [
    {
     "name": "stdout",
     "output_type": "stream",
     "text": [
      "10216333\n",
      "10273002\n"
     ]
    },
    {
     "data": {
      "image/png": "[encoded data removed]",
      "text/plain": [
       "<Figure size 640x480 with 1 Axes>"
      ]
     },
     "metadata": {},
     "output_type": "display_data"
    }
   ],
   "source": [
    "compare_4_1 = data.loc[data['profession'] == 'Artist']['home_cost'].mean().astype(int)\n",
    "compare_4_2 = data.loc[data['profession'] == 'Lawyer']['home_cost'].mean().astype(int)\n",
    "\n",
    "using = ['Artist_home', 'Lawyer_home']\n",
    "visualization = [compare_4_1, compare_4_2]\n",
    "plt.bar(using, visualization, color = 'red')\n",
    "plt.ylabel('Home cost')\n",
    "plt.title('Средние цены домов Artist и Lawyer')\n",
    "print(compare_4_1)\n",
    "print(compare_4_2)\n",
    "plt.show()"
   ]
  },
  {
   "cell_type": "markdown",
   "metadata": {},
   "source": [
    "<div class=\"alert alert-warning\">\n",
    "    \n",
    "* Правда ли, что недвижимость у тех, кто когда либо был в браке в среднем дороже, чем у тех, кто никогда не был в браке?\n"
   ]
  },
  {
   "cell_type": "raw",
   "metadata": {},
   "source": [
    "Ответ: Нет"
   ]
  },
  {
   "cell_type": "code",
   "execution_count": 176,
   "metadata": {},
   "outputs": [
    {
     "name": "stdout",
     "output_type": "stream",
     "text": [
      "10180165\n",
      "10279730\n"
     ]
    },
    {
     "data": {
      "image/png": "[encoded data removed]",
      "text/plain": [
       "<Figure size 640x480 with 1 Axes>"
      ]
     },
     "metadata": {},
     "output_type": "display_data"
    }
   ],
   "source": [
    "compare_5_1 = data.loc[data['was_married'] == 1]['home_cost'].mean().astype(int)\n",
    "compare_5_2 = data.loc[data['was_married'] == 0]['home_cost'].mean().astype(int)\n",
    "\n",
    "using = ['Женатики', 'Холостяки']\n",
    "visualization = [compare_5_1, compare_5_2]\n",
    "plt.bar(using, visualization, color = 'black')\n",
    "plt.ylabel('Home cost')\n",
    "plt.title('Средние цены домов женатых и холостяков')\n",
    "print(compare_5_1)\n",
    "print(compare_5_2)\n",
    "plt.show()"
   ]
  },
  {
   "cell_type": "markdown",
   "metadata": {},
   "source": [
    "<div class=\"alert alert-warning\">\n",
    "    \n",
    "* Правда ли, что мужчины в среднем чаще бывают в браке, чем женщины?\n",
    "\n",
    "**Подсказка** - составьте матрицу смежности, она выглядит примерно вот так:\n"
   ]
  },
  {
   "cell_type": "code",
   "execution_count": 6,
   "metadata": {},
   "outputs": [],
   "source": [
    "# ******  был в браке | не был в браке |\n",
    "# мужчины      140    |      499       |\n",
    "# женщины      241    |      298       |"
   ]
  },
  {
   "cell_type": "raw",
   "metadata": {},
   "source": [
    "Ответ: Да, чаще"
   ]
  },
  {
   "cell_type": "raw",
   "metadata": {},
   "source": [
    "Этот случай отличается от других, не получилось найти способ вытащить из таблицы compare_temp цифры отдельно по мужчинам / женщинам\n",
    "update:\n",
    "Проверить этот способ:\n",
    "Вы также можете комбинировать несколько условий с помощью логических операторов для создания более сложных фильтров. Например, выбор строк с использованием комбинации условий реализуется через:\n",
    "filtered_data = dataframe.loc[(dataframe['status'] == 'pandemic') & (dataframe['count'] > 100)]  \n",
    "Источник - Школа английского языка Skyeng: https://skyeng.ru/it-industry/programming/effektivnoe-ispolzovanie-python-loc-v-pandas/"
   ]
  },
  {
   "cell_type": "code",
   "execution_count": 208,
   "metadata": {},
   "outputs": [
    {
     "data": {
      "text/html": [
       "<div>\n",
       "<style scoped>\n",
       "    .dataframe tbody tr th:only-of-type {\n",
       "        vertical-align: middle;\n",
       "    }\n",
       "\n",
       "    .dataframe tbody tr th {\n",
       "        vertical-align: top;\n",
       "    }\n",
       "\n",
       "    .dataframe thead th {\n",
       "        text-align: right;\n",
       "    }\n",
       "</style>\n",
       "<table border=\"1\" class=\"dataframe\">\n",
       "  <thead>\n",
       "    <tr style=\"text-align: right;\">\n",
       "      <th></th>\n",
       "      <th></th>\n",
       "      <th>children</th>\n",
       "      <th>salary</th>\n",
       "      <th>age</th>\n",
       "      <th>profession</th>\n",
       "      <th>home_cost</th>\n",
       "      <th>drive_info</th>\n",
       "      <th>happyness</th>\n",
       "    </tr>\n",
       "    <tr>\n",
       "      <th>sex</th>\n",
       "      <th>was_married</th>\n",
       "      <th></th>\n",
       "      <th></th>\n",
       "      <th></th>\n",
       "      <th></th>\n",
       "      <th></th>\n",
       "      <th></th>\n",
       "      <th></th>\n",
       "    </tr>\n",
       "  </thead>\n",
       "  <tbody>\n",
       "    <tr>\n",
       "      <th rowspan=\"2\" valign=\"top\">0</th>\n",
       "      <th>0</th>\n",
       "      <td>360</td>\n",
       "      <td>360</td>\n",
       "      <td>360</td>\n",
       "      <td>360</td>\n",
       "      <td>360</td>\n",
       "      <td>360</td>\n",
       "      <td>360</td>\n",
       "    </tr>\n",
       "    <tr>\n",
       "      <th>1</th>\n",
       "      <td>779</td>\n",
       "      <td>779</td>\n",
       "      <td>779</td>\n",
       "      <td>779</td>\n",
       "      <td>779</td>\n",
       "      <td>779</td>\n",
       "      <td>779</td>\n",
       "    </tr>\n",
       "    <tr>\n",
       "      <th rowspan=\"2\" valign=\"top\">1</th>\n",
       "      <th>0</th>\n",
       "      <td>145</td>\n",
       "      <td>145</td>\n",
       "      <td>145</td>\n",
       "      <td>145</td>\n",
       "      <td>145</td>\n",
       "      <td>145</td>\n",
       "      <td>145</td>\n",
       "    </tr>\n",
       "    <tr>\n",
       "      <th>1</th>\n",
       "      <td>1946</td>\n",
       "      <td>1946</td>\n",
       "      <td>1946</td>\n",
       "      <td>1946</td>\n",
       "      <td>1946</td>\n",
       "      <td>1946</td>\n",
       "      <td>1946</td>\n",
       "    </tr>\n",
       "  </tbody>\n",
       "</table>\n",
       "</div>"
      ],
      "text/plain": [
       "                 children  salary   age  profession  home_cost  drive_info  \\\n",
       "sex was_married                                                              \n",
       "0   0                 360     360   360         360        360         360   \n",
       "    1                 779     779   779         779        779         779   \n",
       "1   0                 145     145   145         145        145         145   \n",
       "    1                1946    1946  1946        1946       1946        1946   \n",
       "\n",
       "                 happyness  \n",
       "sex was_married             \n",
       "0   0                  360  \n",
       "    1                  779  \n",
       "1   0                  145  \n",
       "    1                 1946  "
      ]
     },
     "execution_count": 208,
     "metadata": {},
     "output_type": "execute_result"
    }
   ],
   "source": [
    "compare_temp = data.groupby(['sex', 'was_married']).count()\n",
    "compare_temp.head()"
   ]
  },
  {
   "cell_type": "code",
   "execution_count": 209,
   "metadata": {},
   "outputs": [
    {
     "name": "stdout",
     "output_type": "stream",
     "text": [
      "1946\n",
      "779\n"
     ]
    },
    {
     "data": {
      "image/png": "[encoded data removed]",
      "text/plain": [
       "<Figure size 640x480 with 1 Axes>"
      ]
     },
     "metadata": {},
     "output_type": "display_data"
    }
   ],
   "source": [
    "compare_6_1 = 1946\n",
    "compare_6_2 = 779\n",
    "\n",
    "using = ['Мужчины', 'Женщины']\n",
    "visualization = [compare_6_1, compare_6_2]\n",
    "plt.bar(using, visualization, color = 'yellow')\n",
    "plt.ylabel('К-во married')\n",
    "plt.title('Кто чаще бывает в браке?')\n",
    "print(compare_6_1)\n",
    "print(compare_6_2)\n",
    "plt.show()"
   ]
  },
  {
   "cell_type": "code",
   "execution_count": null,
   "metadata": {},
   "outputs": [],
   "source": []
  }
 ],
 "metadata": {
  "kernelspec": {
   "display_name": "Python 3 (ipykernel)",
   "language": "python",
   "name": "python3"
  },
  "language_info": {
   "codemirror_mode": {
    "name": "ipython",
    "version": 3
   },
   "file_extension": ".py",
   "mimetype": "text/x-python",
   "name": "python",
   "nbconvert_exporter": "python",
   "pygments_lexer": "ipython3",
   "version": "3.13.1"
  },
  "toc": {
   "base_numbering": 1,
   "nav_menu": {},
   "number_sections": true,
   "sideBar": true,
   "skip_h1_title": false,
   "title_cell": "Table of Contents",
   "title_sidebar": "Contents",
   "toc_cell": false,
   "toc_position": {},
   "toc_section_display": true,
   "toc_window_display": false
  }
 },
 "nbformat": 4,
 "nbformat_minor": 4
}
