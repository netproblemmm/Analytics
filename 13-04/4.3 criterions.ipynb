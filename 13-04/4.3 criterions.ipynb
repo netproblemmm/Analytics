{
 "cells": [
  {
   "cell_type": "markdown",
   "metadata": {},
   "source": [
    "<p style=\"align: center;\"><img align=center src=\"https://mailfit.com/wp-content/uploads/2019/11/lego-5.png\"  width=900></p>\n",
    "<h1 style=\"text-align: center;\"><b>«Практика. Применение статистических критериев»</b></h3>\n"
   ]
  },
  {
   "cell_type": "markdown",
   "metadata": {},
   "source": [
    "# Импортирование библиотек"
   ]
  },
  {
   "cell_type": "code",
   "execution_count": 1,
   "metadata": {},
   "outputs": [],
   "source": [
    "import numpy as np  \n",
    "import pandas as pd  # для работы с таблицами\n",
    "\n",
    "from scipy import stats # При работе со статистикой\n",
    "\n",
    "import matplotlib.pyplot as plt  # Библиотека для визуализации результатов \n",
    "import seaborn as sns # Более продвинутая библиотека для визуализации"
   ]
  },
  {
   "cell_type": "markdown",
   "metadata": {},
   "source": [
    "## T-test (Для двух выборок)."
   ]
  },
  {
   "cell_type": "markdown",
   "metadata": {},
   "source": [
    "<div class=\"alert alert-info\">\n",
    "<b>Описание: </b>\n",
    "Такой тест показывает, имеют ли две выборки данных разные средние значения (нас две разные выборки, а не одна!). Здесь мы принимаем нулевую гипотезу о том, что обе группы имеют равные средние.\n",
    "</div>"
   ]
  },
  {
   "cell_type": "code",
   "execution_count": 2,
   "metadata": {},
   "outputs": [
    {
     "data": {
      "text/plain": [
       "(np.float64(-4.603969431926063), np.float64(4.317548864294915e-06))"
      ]
     },
     "execution_count": 2,
     "metadata": {},
     "output_type": "execute_result"
    }
   ],
   "source": [
    "from scipy import stats  # Импортируем библиотеку\n",
    "np.random.seed(40)  # Закрепим seed для воспроизводимости результата.\n",
    "\n",
    "\n",
    "# Генерируем случайные выборки с нормальным распределением, где среднее = loc, а стандартное отклонение = scale\n",
    "A = stats.norm.rvs(loc=48, scale=10, size=1000)  \n",
    "B = stats.norm.rvs(loc=50, scale=10, size=2000) \n",
    "\n",
    "\n",
    "t_value, p_value = stats.ttest_ind(A, B) # ttest_ind - Критерий Стьюдента (t-test)\n",
    "t_value, p_value"
   ]
  },
  {
   "cell_type": "markdown",
   "metadata": {},
   "source": [
    "<div class=\"alert alert-info\">\n",
    "    \n",
    "**Мы получаем хорошее значение `p < 5%`, и, таким образом, мы отклоняем нулевую гипотезу, то есть - средние значения двух распределений различны и это различие статистически значимо**"
   ]
  },
  {
   "cell_type": "code",
   "execution_count": 3,
   "metadata": {},
   "outputs": [
    {
     "data": {
      "text/plain": [
       "(np.float64(48.46329427854953), np.float64(50.23424961080455))"
      ]
     },
     "execution_count": 3,
     "metadata": {},
     "output_type": "execute_result"
    }
   ],
   "source": [
    "A.mean(), B.mean()"
   ]
  },
  {
   "cell_type": "markdown",
   "metadata": {},
   "source": [
    "**И действительно, если посмотреть на сгенерированные выборки с помощью гистограммы, то увидим их небольшой сдвиг между собой** "
   ]
  },
  {
   "cell_type": "code",
   "execution_count": 4,
   "metadata": {},
   "outputs": [
    {
     "data": {
      "image/png": "[encoded data removed]",
      "text/plain": [
       "<Figure size 640x480 with 1 Axes>"
      ]
     },
     "metadata": {},
     "output_type": "display_data"
    }
   ],
   "source": [
    "plt.hist(B, bins=20, density=True, alpha=0.7, color ='green'); #Выборка A\n",
    "plt.hist(A, bins=20, density=True, alpha=0.7, color='blue');  #Выборка B"
   ]
  },
  {
   "cell_type": "markdown",
   "metadata": {},
   "source": [
    "# Кейс - люди и тренировки"
   ]
  },
  {
   "cell_type": "markdown",
   "metadata": {},
   "source": [
    "<div class=\"alert alert-info\">\n",
    "<b>Описание: </b>\n",
    "\n",
    "Предположим, вас интересует оценка эффективности программы тренировок. Один из подходов, который вы можете рассмотреть, - это измерение веса группы людей до и после завершения программы тренировок и анализ различий с использованием критерия.\n",
    "    \n",
    "**Но какой критерий надо взять? Давайте разбираться!**"
   ]
  },
  {
   "cell_type": "code",
   "execution_count": 5,
   "metadata": {},
   "outputs": [
    {
     "data": {
      "text/html": [
       "<div>\n",
       "<style scoped>\n",
       "    .dataframe tbody tr th:only-of-type {\n",
       "        vertical-align: middle;\n",
       "    }\n",
       "\n",
       "    .dataframe tbody tr th {\n",
       "        vertical-align: top;\n",
       "    }\n",
       "\n",
       "    .dataframe thead th {\n",
       "        text-align: right;\n",
       "    }\n",
       "</style>\n",
       "<table border=\"1\" class=\"dataframe\">\n",
       "  <thead>\n",
       "    <tr style=\"text-align: right;\">\n",
       "      <th></th>\n",
       "      <th>weight_before</th>\n",
       "      <th>weight_after</th>\n",
       "      <th>weight_change</th>\n",
       "    </tr>\n",
       "  </thead>\n",
       "  <tbody>\n",
       "    <tr>\n",
       "      <th>count</th>\n",
       "      <td>1000.000000</td>\n",
       "      <td>1000.000000</td>\n",
       "      <td>1000.000000</td>\n",
       "    </tr>\n",
       "    <tr>\n",
       "      <th>mean</th>\n",
       "      <td>200.386641</td>\n",
       "      <td>201.349185</td>\n",
       "      <td>0.962544</td>\n",
       "    </tr>\n",
       "    <tr>\n",
       "      <th>std</th>\n",
       "      <td>19.584319</td>\n",
       "      <td>24.160417</td>\n",
       "      <td>14.961816</td>\n",
       "    </tr>\n",
       "    <tr>\n",
       "      <th>min</th>\n",
       "      <td>135.174653</td>\n",
       "      <td>132.629496</td>\n",
       "      <td>-44.205830</td>\n",
       "    </tr>\n",
       "    <tr>\n",
       "      <th>25%</th>\n",
       "      <td>187.048194</td>\n",
       "      <td>186.020797</td>\n",
       "      <td>-9.193625</td>\n",
       "    </tr>\n",
       "    <tr>\n",
       "      <th>50%</th>\n",
       "      <td>200.506012</td>\n",
       "      <td>200.763880</td>\n",
       "      <td>0.846157</td>\n",
       "    </tr>\n",
       "    <tr>\n",
       "      <th>75%</th>\n",
       "      <td>212.958878</td>\n",
       "      <td>216.031903</td>\n",
       "      <td>10.833233</td>\n",
       "    </tr>\n",
       "    <tr>\n",
       "      <th>max</th>\n",
       "      <td>277.054630</td>\n",
       "      <td>303.198281</td>\n",
       "      <td>47.796614</td>\n",
       "    </tr>\n",
       "  </tbody>\n",
       "</table>\n",
       "</div>"
      ],
      "text/plain": [
       "       weight_before  weight_after  weight_change\n",
       "count    1000.000000   1000.000000    1000.000000\n",
       "mean      200.386641    201.349185       0.962544\n",
       "std        19.584319     24.160417      14.961816\n",
       "min       135.174653    132.629496     -44.205830\n",
       "25%       187.048194    186.020797      -9.193625\n",
       "50%       200.506012    200.763880       0.846157\n",
       "75%       212.958878    216.031903      10.833233\n",
       "max       277.054630    303.198281      47.796614"
      ]
     },
     "execution_count": 5,
     "metadata": {},
     "output_type": "execute_result"
    }
   ],
   "source": [
    "np.random.seed(42)\n",
    "before = stats.norm.rvs(scale = 20, loc = 200, size = 1000)  # Генерируем эффективность тренировки до\n",
    "after = before + stats.norm.rvs(scale = 15, loc = -.100, size = 1000) # Добавим к группе небольшое смещение - имитация эффекта\n",
    "\n",
    "weight_df = pd.DataFrame({\"weight_before\": before,\n",
    "                          \"weight_after\" : after,\n",
    "                          \"weight_change\": after-before})\n",
    "\n",
    "weight_df.describe() # Обратив внимание на средения значения до и после - заметит ли это отличие t-test?"
   ]
  },
  {
   "cell_type": "code",
   "execution_count": 6,
   "metadata": {},
   "outputs": [
    {
     "data": {
      "image/png": "[encoded data removed]",
      "text/plain": [
       "<Figure size 640x480 with 1 Axes>"
      ]
     },
     "metadata": {},
     "output_type": "display_data"
    }
   ],
   "source": [
    "# Посмотрим на различия до и после \n",
    "plt.hist(weight_df['weight_before'], bins=27, density=True, alpha=0.7, color ='green', label='До'); #Выборка A\n",
    "plt.hist(weight_df['weight_after'], bins=27, density=True, alpha=0.7, color='blue', label='После');  #Выборка B\n",
    "plt.legend(labels=['До','После']);"
   ]
  },
  {
   "cell_type": "markdown",
   "metadata": {},
   "source": [
    "## Критерий Стьюдента"
   ]
  },
  {
   "cell_type": "code",
   "execution_count": 7,
   "metadata": {},
   "outputs": [
    {
     "name": "stdout",
     "output_type": "stream",
     "text": [
      "Статистики=-0.979, p=0.328\n",
      "Одинаковые распределения (не отвергаем H0)\n"
     ]
    }
   ],
   "source": [
    "t_value, p_value = stats.ttest_ind(weight_df['weight_before'], weight_df['weight_after'])\n",
    "\n",
    "print('Статистики=%.3f, p=%.3f' % (t_value, p_value))\n",
    "\n",
    "alpha = 0.05\n",
    "if p_value > alpha: # Интерпретируем\n",
    "    print('Одинаковые распределения (не отвергаем H0)')\n",
    "else:\n",
    "    print('Разные распределения (отвергаем H0)')"
   ]
  },
  {
   "cell_type": "markdown",
   "metadata": {},
   "source": [
    "<div class=\"alert alert-warning\">\n",
    "    \n",
    "    \n",
    "<b>Заметим!: </b>\n",
    "\n",
    "Критерий стюдента для двух выборок не заметил никаких различий. Хотя они точно есть, ведь мы задали их вручную.\n",
    "\n",
    "Давайте попробуем применить критерий Уилкоксона, который учитывает зависимость групп и способен заметить различия для одной и той же группы в разные моменты времени"
   ]
  },
  {
   "cell_type": "markdown",
   "metadata": {},
   "source": [
    " "
   ]
  },
  {
   "cell_type": "markdown",
   "metadata": {},
   "source": [
    "## Критерий Уилкоксона"
   ]
  },
  {
   "cell_type": "code",
   "execution_count": 8,
   "metadata": {},
   "outputs": [
    {
     "name": "stdout",
     "output_type": "stream",
     "text": [
      "Статистики=231331.000, p=0.038\n",
      "Разные распределения (отвергаем H0)\n"
     ]
    }
   ],
   "source": [
    "import scipy.stats as stats\n",
    "from scipy.stats import wilcoxon  # Wilcoxon signed-rank test\n",
    "\n",
    "#Выполняем тест Уилкоксона\n",
    "\n",
    "t_value, p_value = wilcoxon(weight_df['weight_before'], weight_df['weight_after'])\n",
    "\n",
    "print('Статистики=%.3f, p=%.3f' % (t_value, p_value))\n",
    " \n",
    "alpha = 0.05\n",
    "if p_value > alpha: # Интерпретируем\n",
    "    print('Одинаковые распределения (не отвергаем H0)')\n",
    "else:\n",
    "    print('Разные распределения (отвергаем H0)')"
   ]
  },
  {
   "cell_type": "markdown",
   "metadata": {},
   "source": [
    "<div class=\"alert alert-success\">\n",
    "\n",
    "Отлично! Верно выбранные критерий все-же заметил различия, которые мы заложили в данные. В зависимых группах изменения могут быть незаметнне, поэтому стоит ипользовать критерии, которые умеют делать поправку на зависимость. "
   ]
  },
  {
   "cell_type": "markdown",
   "metadata": {},
   "source": [
    "# Кейс - люди и зарплаты"
   ]
  },
  {
   "cell_type": "markdown",
   "metadata": {},
   "source": [
    "<div class=\"alert alert-info\">\n",
    "<b>Описание: </b>\n",
    "\n",
    "Предположим, вас интересует эффективности увеличения зарплат людей в разные моменты времени. Возьмем тот же подход, который мы рассмотрели ранее, - это измерение зарплат группы людей до и после нескольких лет и анализ различий с использованием критерия.\n",
    "    \n",
    "**Но опять же, какой критерий надо взять? Давайте разбираться!**"
   ]
  },
  {
   "cell_type": "code",
   "execution_count": 9,
   "metadata": {},
   "outputs": [
    {
     "data": {
      "text/html": [
       "<div>\n",
       "<style scoped>\n",
       "    .dataframe tbody tr th:only-of-type {\n",
       "        vertical-align: middle;\n",
       "    }\n",
       "\n",
       "    .dataframe tbody tr th {\n",
       "        vertical-align: top;\n",
       "    }\n",
       "\n",
       "    .dataframe thead th {\n",
       "        text-align: right;\n",
       "    }\n",
       "</style>\n",
       "<table border=\"1\" class=\"dataframe\">\n",
       "  <thead>\n",
       "    <tr style=\"text-align: right;\">\n",
       "      <th></th>\n",
       "      <th>weight_before</th>\n",
       "      <th>weight_after</th>\n",
       "      <th>weight_change</th>\n",
       "    </tr>\n",
       "  </thead>\n",
       "  <tbody>\n",
       "    <tr>\n",
       "      <th>count</th>\n",
       "      <td>1000.000000</td>\n",
       "      <td>1000.000000</td>\n",
       "      <td>1000.000000</td>\n",
       "    </tr>\n",
       "    <tr>\n",
       "      <th>mean</th>\n",
       "      <td>97.250595</td>\n",
       "      <td>101.908606</td>\n",
       "      <td>4.658012</td>\n",
       "    </tr>\n",
       "    <tr>\n",
       "      <th>std</th>\n",
       "      <td>97.250989</td>\n",
       "      <td>97.457879</td>\n",
       "      <td>4.713898</td>\n",
       "    </tr>\n",
       "    <tr>\n",
       "      <th>min</th>\n",
       "      <td>0.464278</td>\n",
       "      <td>0.747264</td>\n",
       "      <td>0.014506</td>\n",
       "    </tr>\n",
       "    <tr>\n",
       "      <th>25%</th>\n",
       "      <td>26.915653</td>\n",
       "      <td>31.324979</td>\n",
       "      <td>1.241331</td>\n",
       "    </tr>\n",
       "    <tr>\n",
       "      <th>50%</th>\n",
       "      <td>68.678262</td>\n",
       "      <td>72.989144</td>\n",
       "      <td>3.291008</td>\n",
       "    </tr>\n",
       "    <tr>\n",
       "      <th>75%</th>\n",
       "      <td>136.383021</td>\n",
       "      <td>140.992556</td>\n",
       "      <td>6.430756</td>\n",
       "    </tr>\n",
       "    <tr>\n",
       "      <th>max</th>\n",
       "      <td>817.244560</td>\n",
       "      <td>821.485651</td>\n",
       "      <td>33.487753</td>\n",
       "    </tr>\n",
       "  </tbody>\n",
       "</table>\n",
       "</div>"
      ],
      "text/plain": [
       "       weight_before  weight_after  weight_change\n",
       "count    1000.000000   1000.000000    1000.000000\n",
       "mean       97.250595    101.908606       4.658012\n",
       "std        97.250989     97.457879       4.713898\n",
       "min         0.464278      0.747264       0.014506\n",
       "25%        26.915653     31.324979       1.241331\n",
       "50%        68.678262     72.989144       3.291008\n",
       "75%       136.383021    140.992556       6.430756\n",
       "max       817.244560    821.485651      33.487753"
      ]
     },
     "execution_count": 9,
     "metadata": {},
     "output_type": "execute_result"
    }
   ],
   "source": [
    "np.random.seed(42)\n",
    "\n",
    "before = np.random.exponential(scale=100, size=1000)  # Генерируем зарплаты сотрудников до\n",
    "after = before + np.random.exponential(scale=4.5, size=1000) # Добавим к группе небольшое смещение - имитация эффекта\n",
    "\n",
    "weight_df = pd.DataFrame({\"weight_before\": before,\n",
    "                          \"weight_after\" : after,\n",
    "                          \"weight_change\": after-before})\n",
    "\n",
    "\n",
    "weight_df.describe() #Обратив внимание на средения значения до и после - заметит ли это отличие t-test?"
   ]
  },
  {
   "cell_type": "code",
   "execution_count": 10,
   "metadata": {},
   "outputs": [
    {
     "data": {
      "image/png": "[encoded data removed]",
      "text/plain": [
       "<Figure size 640x480 with 1 Axes>"
      ]
     },
     "metadata": {},
     "output_type": "display_data"
    }
   ],
   "source": [
    "# Посмотрим на различия до и после \n",
    "plt.hist(weight_df['weight_before'], bins=27, density=True, alpha=0.7, color ='green', label='До'); #Выборка A\n",
    "plt.hist(weight_df['weight_after'], bins=27, density=True, alpha=0.7, color='blue', label='После');  #Выборка B\n",
    "plt.legend(labels=['До','После']);"
   ]
  },
  {
   "cell_type": "markdown",
   "metadata": {},
   "source": [
    "<div class=\"alert alert-warning\">\n",
    "    \n",
    "**Заметим**, что теперь распределение у нас ненормальное! И это значит, критерий Стьюдента может дать нам некорректные результаты."
   ]
  },
  {
   "cell_type": "code",
   "execution_count": 11,
   "metadata": {},
   "outputs": [
    {
     "name": "stdout",
     "output_type": "stream",
     "text": [
      "Статистики=-1.070, p=0.285\n",
      "Одинаковые распределения (не отвергаем H0)\n"
     ]
    }
   ],
   "source": [
    "t_value, p_value = stats.ttest_ind(weight_df['weight_before'], weight_df['weight_after'])\n",
    "\n",
    "print('Статистики=%.3f, p=%.3f' % (t_value, p_value))\n",
    "\n",
    "alpha = 0.05\n",
    "if p_value > alpha: # Интерпретируем\n",
    "    print('Одинаковые распределения (не отвергаем H0)')\n",
    "else:\n",
    "    print('Разные распределения (отвергаем H0)')"
   ]
  },
  {
   "cell_type": "markdown",
   "metadata": {},
   "source": [
    "<div class=\"alert alert-info\">\n",
    "<b>Заметим!: </b>\n",
    "\n",
    "Критерий стюдента для двух выборок не заметил никаких различий. Хотя они точно есть, ведь мы задали их вручную.\n",
    "\n",
    "Давайте попробуем применить критерий Манна-Уитни, которому не важно распределение в данных и он способен справиться даже с таким."
   ]
  },
  {
   "cell_type": "code",
   "execution_count": 12,
   "metadata": {},
   "outputs": [
    {
     "name": "stdout",
     "output_type": "stream",
     "text": [
      "Статистики=476722.000, p=0.071\n",
      "Одинаковые распределения (не отвергаем H0)\n"
     ]
    }
   ],
   "source": [
    "import scipy.stats as stats\n",
    "from scipy.stats import mannwhitneyu # Импортируем нужный ранговый критерий из пакета scipy\n",
    "\n",
    "#Выполняем тест Манна-Уитни\n",
    "\n",
    "t_value, p_value = mannwhitneyu(weight_df['weight_before'], weight_df['weight_after'])\n",
    " \n",
    "print('Статистики=%.3f, p=%.3f' % (t_value, p_value))\n",
    " \n",
    "alpha = 0.05\n",
    "if p_value > alpha: # Интерпретируем\n",
    "    print('Одинаковые распределения (не отвергаем H0)')\n",
    "else:\n",
    "    print('Разные распределения (отвергаем H0)')"
   ]
  },
  {
   "cell_type": "markdown",
   "metadata": {},
   "source": [
    "<div class=\"alert alert-success\">\n",
    "\n",
    "**Отлично!** Верно выбранные критерий все-же заметил различия, которые мы заложили в данные. Мы говорили в лекции, что надо обращать внимании на то, какое у вас распределение в данных, в противном случае, ваши выводы могут стать недоставерными. \n",
    "    Удобство ранговых критериев как раз в том, что им неважно какое у вас распределение (это непараметрические критерии)"
   ]
  },
  {
   "cell_type": "markdown",
   "metadata": {},
   "source": [
    "# Выводы:\n",
    "\n",
    "- Критерии дают возможность доказать различия между тестовой и контрольной группами\n",
    "- Важно понимать, зависимы у вас группы или нет\n",
    "- Полезно обращать внимание на то, какой распределение в ваших данных. \n",
    "\n",
    "\n",
    "В Следующих практиках, мы научимся работать с ненормальными распределениями!\n",
    "\n",
    "\n",
    " "
   ]
  }
 ],
 "metadata": {
  "kernelspec": {
   "display_name": "Python 3 (ipykernel)",
   "language": "python",
   "name": "python3"
  },
  "language_info": {
   "codemirror_mode": {
    "name": "ipython",
    "version": 3
   },
   "file_extension": ".py",
   "mimetype": "text/x-python",
   "name": "python",
   "nbconvert_exporter": "python",
   "pygments_lexer": "ipython3",
   "version": "3.13.1"
  },
  "toc": {
   "base_numbering": 1,
   "nav_menu": {},
   "number_sections": true,
   "sideBar": true,
   "skip_h1_title": false,
   "title_cell": "Table of Contents",
   "title_sidebar": "Contents",
   "toc_cell": false,
   "toc_position": {},
   "toc_section_display": true,
   "toc_window_display": false
  }
 },
 "nbformat": 4,
 "nbformat_minor": 4
}
