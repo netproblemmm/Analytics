{
 "cells": [
  {
   "cell_type": "markdown",
   "metadata": {},
   "source": [
    "<p style=\"align: center;\"><img align=center src=\"https://mailfit.com/wp-content/uploads/2019/11/lego-5.png\"  width=900></p>\n",
    "<h1 style=\"text-align: center;\"><b>«Домашняя работа» - Множественное тестирование</b></h3>\n"
   ]
  },
  {
   "cell_type": "markdown",
   "metadata": {},
   "source": [
    "## Импорт библиотек"
   ]
  },
  {
   "cell_type": "code",
   "execution_count": 21,
   "metadata": {},
   "outputs": [],
   "source": [
    "import numpy as np\n",
    "import pandas as pd\n",
    "\n",
    "import scipy\n",
    "from scipy import stats\n",
    "\n",
    "import matplotlib.pyplot as plt\n",
    "import seaborn as sns\n",
    "sns.set_theme()"
   ]
  },
  {
   "cell_type": "markdown",
   "metadata": {},
   "source": [
    "## Импорт данных"
   ]
  },
  {
   "cell_type": "code",
   "execution_count": 12,
   "metadata": {},
   "outputs": [
    {
     "name": "stdout",
     "output_type": "stream",
     "text": [
      "Размеры датасета (6000, 9)\n"
     ]
    },
    {
     "data": {
      "text/html": [
       "<div>\n",
       "<style scoped>\n",
       "    .dataframe tbody tr th:only-of-type {\n",
       "        vertical-align: middle;\n",
       "    }\n",
       "\n",
       "    .dataframe tbody tr th {\n",
       "        vertical-align: top;\n",
       "    }\n",
       "\n",
       "    .dataframe thead th {\n",
       "        text-align: right;\n",
       "    }\n",
       "</style>\n",
       "<table border=\"1\" class=\"dataframe\">\n",
       "  <thead>\n",
       "    <tr style=\"text-align: right;\">\n",
       "      <th></th>\n",
       "      <th>was_married</th>\n",
       "      <th>children</th>\n",
       "      <th>salary</th>\n",
       "      <th>sex</th>\n",
       "      <th>age</th>\n",
       "      <th>profession</th>\n",
       "      <th>home_cost</th>\n",
       "      <th>drive_info</th>\n",
       "      <th>happyness</th>\n",
       "    </tr>\n",
       "    <tr>\n",
       "      <th>id</th>\n",
       "      <th></th>\n",
       "      <th></th>\n",
       "      <th></th>\n",
       "      <th></th>\n",
       "      <th></th>\n",
       "      <th></th>\n",
       "      <th></th>\n",
       "      <th></th>\n",
       "      <th></th>\n",
       "    </tr>\n",
       "  </thead>\n",
       "  <tbody>\n",
       "    <tr>\n",
       "      <th>0</th>\n",
       "      <td>1</td>\n",
       "      <td>4.0</td>\n",
       "      <td>4.420530e+07</td>\n",
       "      <td>1</td>\n",
       "      <td>82.0</td>\n",
       "      <td>Engineer</td>\n",
       "      <td>1.003674e+07</td>\n",
       "      <td>NaN</td>\n",
       "      <td>0.727499</td>\n",
       "    </tr>\n",
       "    <tr>\n",
       "      <th>1</th>\n",
       "      <td>1</td>\n",
       "      <td>2.0</td>\n",
       "      <td>1.737490e+08</td>\n",
       "      <td>1</td>\n",
       "      <td>32.0</td>\n",
       "      <td>Doctor</td>\n",
       "      <td>1.014051e+07</td>\n",
       "      <td>0.0</td>\n",
       "      <td>0.383234</td>\n",
       "    </tr>\n",
       "    <tr>\n",
       "      <th>2</th>\n",
       "      <td>1</td>\n",
       "      <td>6.0</td>\n",
       "      <td>2.489055e+08</td>\n",
       "      <td>1</td>\n",
       "      <td>14.0</td>\n",
       "      <td>Entertainment</td>\n",
       "      <td>1.043318e+07</td>\n",
       "      <td>NaN</td>\n",
       "      <td>0.432142</td>\n",
       "    </tr>\n",
       "    <tr>\n",
       "      <th>3</th>\n",
       "      <td>0</td>\n",
       "      <td>1.0</td>\n",
       "      <td>1.268718e+08</td>\n",
       "      <td>0</td>\n",
       "      <td>10.0</td>\n",
       "      <td>Lawyer</td>\n",
       "      <td>1.004299e+07</td>\n",
       "      <td>NaN</td>\n",
       "      <td>0.377987</td>\n",
       "    </tr>\n",
       "    <tr>\n",
       "      <th>4</th>\n",
       "      <td>1</td>\n",
       "      <td>9.0</td>\n",
       "      <td>8.596042e+07</td>\n",
       "      <td>1</td>\n",
       "      <td>99.0</td>\n",
       "      <td>Artist</td>\n",
       "      <td>1.021908e+07</td>\n",
       "      <td>NaN</td>\n",
       "      <td>0.657579</td>\n",
       "    </tr>\n",
       "    <tr>\n",
       "      <th>5</th>\n",
       "      <td>1</td>\n",
       "      <td>3.0</td>\n",
       "      <td>2.474979e+06</td>\n",
       "      <td>0</td>\n",
       "      <td>21.0</td>\n",
       "      <td>Homemaker</td>\n",
       "      <td>1.001654e+07</td>\n",
       "      <td>1.0</td>\n",
       "      <td>0.326801</td>\n",
       "    </tr>\n",
       "  </tbody>\n",
       "</table>\n",
       "</div>"
      ],
      "text/plain": [
       "    was_married  children        salary  sex   age     profession  \\\n",
       "id                                                                  \n",
       "0             1       4.0  4.420530e+07    1  82.0       Engineer   \n",
       "1             1       2.0  1.737490e+08    1  32.0         Doctor   \n",
       "2             1       6.0  2.489055e+08    1  14.0  Entertainment   \n",
       "3             0       1.0  1.268718e+08    0  10.0         Lawyer   \n",
       "4             1       9.0  8.596042e+07    1  99.0         Artist   \n",
       "5             1       3.0  2.474979e+06    0  21.0      Homemaker   \n",
       "\n",
       "       home_cost  drive_info  happyness  \n",
       "id                                       \n",
       "0   1.003674e+07         NaN   0.727499  \n",
       "1   1.014051e+07         0.0   0.383234  \n",
       "2   1.043318e+07         NaN   0.432142  \n",
       "3   1.004299e+07         NaN   0.377987  \n",
       "4   1.021908e+07         NaN   0.657579  \n",
       "5   1.001654e+07         1.0   0.326801  "
      ]
     },
     "execution_count": 12,
     "metadata": {},
     "output_type": "execute_result"
    }
   ],
   "source": [
    "data_path = \"https://raw.githubusercontent.com/a-milenkin/mipt_data_science_2021/main/data/people_data_clustering.csv\"\n",
    "data = pd.read_csv(data_path, index_col=0)\n",
    "print(\"Размеры датасета\", data.shape)\n",
    "data.head(6)"
   ]
  },
  {
   "cell_type": "markdown",
   "metadata": {},
   "source": [
    "<div class=\"alert alert-info\">\n",
    "<b>Про Датасет</b>\n",
    "    \n",
    "Датасет представляет собой информацию по жителям некоторого города.\n",
    "\n",
    "* `was_married` - Был ли когда-либо женат/замужем\n",
    "* `children` - Количество детей\n",
    "* `salary` - Уровень зарплаты\n",
    "* `sex` - Пол (0 - женщина, 1 - мужчина)\n",
    "* `age` - Возраст\n",
    "* `home_cost` - Сумарная стоимость жилья/недвижимости\n",
    "* `Professon` - Профессия\n",
    "* `drive_info` - Есть ли водительские права\n",
    "* `happyness` - уровень счастья по результатам опроса\n",
    "    \n",
    "</div>"
   ]
  },
  {
   "cell_type": "code",
   "execution_count": null,
   "metadata": {},
   "outputs": [],
   "source": [
    " "
   ]
  },
  {
   "cell_type": "markdown",
   "metadata": {},
   "source": [
    "<div class=\"alert alert-info\">\n",
    "<b>Задание</b>\n",
    "\n",
    "Изучить датасет, выполнить задания и проверить некоторые гипотезы, предложенные ниже, опираясь уже **НЕ** только на визуализацию. Само задание выполнить на языке **Python**.\n",
    "   "
   ]
  },
  {
   "cell_type": "code",
   "execution_count": null,
   "metadata": {},
   "outputs": [],
   "source": [
    " "
   ]
  },
  {
   "cell_type": "markdown",
   "metadata": {},
   "source": [
    "# Чистка датасета\n",
    "* Есть ли дубли в данных? Если есть - удалить (drop_duplicates). \n",
    "* Есть ли пропуски в данных? Если есть - удалить столбцы, в которых они есть. (dropna())\n",
    "* Найти и удалить/отфильтровать выбросы по признаку `home_cost`. Сколько их?"
   ]
  },
  {
   "cell_type": "code",
   "execution_count": 13,
   "metadata": {},
   "outputs": [],
   "source": [
    "data.drop_duplicates(keep='first', inplace=True)\n",
    "data.dropna(how='any',inplace=True)"
   ]
  },
  {
   "cell_type": "code",
   "execution_count": 14,
   "metadata": {},
   "outputs": [
    {
     "data": {
      "text/html": [
       "<div>\n",
       "<style scoped>\n",
       "    .dataframe tbody tr th:only-of-type {\n",
       "        vertical-align: middle;\n",
       "    }\n",
       "\n",
       "    .dataframe tbody tr th {\n",
       "        vertical-align: top;\n",
       "    }\n",
       "\n",
       "    .dataframe thead th {\n",
       "        text-align: right;\n",
       "    }\n",
       "</style>\n",
       "<table border=\"1\" class=\"dataframe\">\n",
       "  <thead>\n",
       "    <tr style=\"text-align: right;\">\n",
       "      <th></th>\n",
       "      <th>was_married</th>\n",
       "      <th>children</th>\n",
       "      <th>salary</th>\n",
       "      <th>sex</th>\n",
       "      <th>age</th>\n",
       "      <th>profession</th>\n",
       "      <th>home_cost</th>\n",
       "      <th>drive_info</th>\n",
       "      <th>happyness</th>\n",
       "    </tr>\n",
       "    <tr>\n",
       "      <th>id</th>\n",
       "      <th></th>\n",
       "      <th></th>\n",
       "      <th></th>\n",
       "      <th></th>\n",
       "      <th></th>\n",
       "      <th></th>\n",
       "      <th></th>\n",
       "      <th></th>\n",
       "      <th></th>\n",
       "    </tr>\n",
       "  </thead>\n",
       "  <tbody>\n",
       "    <tr>\n",
       "      <th>1</th>\n",
       "      <td>1</td>\n",
       "      <td>2</td>\n",
       "      <td>173748959</td>\n",
       "      <td>1</td>\n",
       "      <td>32</td>\n",
       "      <td>Doctor</td>\n",
       "      <td>10140513</td>\n",
       "      <td>0</td>\n",
       "      <td>38</td>\n",
       "    </tr>\n",
       "    <tr>\n",
       "      <th>5</th>\n",
       "      <td>1</td>\n",
       "      <td>3</td>\n",
       "      <td>2474979</td>\n",
       "      <td>0</td>\n",
       "      <td>21</td>\n",
       "      <td>Homemaker</td>\n",
       "      <td>10016535</td>\n",
       "      <td>1</td>\n",
       "      <td>32</td>\n",
       "    </tr>\n",
       "    <tr>\n",
       "      <th>7</th>\n",
       "      <td>1</td>\n",
       "      <td>2</td>\n",
       "      <td>151408583</td>\n",
       "      <td>1</td>\n",
       "      <td>32</td>\n",
       "      <td>Doctor</td>\n",
       "      <td>10226684</td>\n",
       "      <td>1</td>\n",
       "      <td>40</td>\n",
       "    </tr>\n",
       "    <tr>\n",
       "      <th>8</th>\n",
       "      <td>1</td>\n",
       "      <td>1</td>\n",
       "      <td>12841162</td>\n",
       "      <td>1</td>\n",
       "      <td>9</td>\n",
       "      <td>Marketing</td>\n",
       "      <td>10173613</td>\n",
       "      <td>1</td>\n",
       "      <td>33</td>\n",
       "    </tr>\n",
       "    <tr>\n",
       "      <th>10</th>\n",
       "      <td>1</td>\n",
       "      <td>9</td>\n",
       "      <td>152437794</td>\n",
       "      <td>1</td>\n",
       "      <td>100</td>\n",
       "      <td>Artist</td>\n",
       "      <td>10376836</td>\n",
       "      <td>1</td>\n",
       "      <td>77</td>\n",
       "    </tr>\n",
       "  </tbody>\n",
       "</table>\n",
       "</div>"
      ],
      "text/plain": [
       "    was_married  children     salary  sex  age profession  home_cost  \\\n",
       "id                                                                     \n",
       "1             1         2  173748959    1   32     Doctor   10140513   \n",
       "5             1         3    2474979    0   21  Homemaker   10016535   \n",
       "7             1         2  151408583    1   32     Doctor   10226684   \n",
       "8             1         1   12841162    1    9  Marketing   10173613   \n",
       "10            1         9  152437794    1  100     Artist   10376836   \n",
       "\n",
       "    drive_info  happyness  \n",
       "id                         \n",
       "1            0         38  \n",
       "5            1         32  \n",
       "7            1         40  \n",
       "8            1         33  \n",
       "10           1         77  "
      ]
     },
     "execution_count": 14,
     "metadata": {},
     "output_type": "execute_result"
    }
   ],
   "source": [
    "data['children'] = data['children'].astype(int)\n",
    "data['salary'] = data['salary'].astype(int)\n",
    "data['age'] = data['age'].astype(int)\n",
    "data['home_cost'] = data['home_cost'].astype(int)\n",
    "data['drive_info'] = data['drive_info'].astype(int, errors = 'ignore')\n",
    "data['happyness'] = (data['happyness'] * 100).astype(int)\n",
    "data.head()"
   ]
  },
  {
   "cell_type": "markdown",
   "metadata": {},
   "source": [
    "# Проверка гипотез"
   ]
  },
  {
   "cell_type": "markdown",
   "metadata": {},
   "source": [
    "# Изучение датасета \n",
    "* Какие признаки численные?\n",
    "* Какие признаки категориальные?\n",
    "* Какие признаки имеют нормальное распределение?\n",
    "* Какие признаки бессмысленные?"
   ]
  },
  {
   "cell_type": "markdown",
   "metadata": {},
   "source": [
    "<div class=\"alert alert-info\">\n",
    "\n",
    "<b>Задание:</b>    \n",
    "    \n",
    "Перед вами уже знакомый датасет, который был дан в прошлых домашних заданиях. Вы уже научились применить подходящий статистический критерий для двух групп, теперь вам предстоит научиться верно применять критерии для нескольких групп одновременно. \n",
    "    "
   ]
  },
  {
   "cell_type": "markdown",
   "metadata": {},
   "source": [
    "<div class=\"alert alert-warning\">\n",
    "    \n",
    "* Правда ли между представителями таких профессий как, **Homemaker**, **Marketing**, **Healthcare** и **Executive** в среднем  зарплаты не отличаются между собой? Ответ подкрепите визуализацией и подходящим статистическим критерием. "
   ]
  },
  {
   "cell_type": "code",
   "execution_count": 18,
   "metadata": {},
   "outputs": [],
   "source": [
    "Homemaker = data.loc[data['profession'] == 'Homemaker', ['salary']]\n",
    "Marketing = data.loc[data['profession'] == 'Marketing', ['salary']]\n",
    "Healthcare = data.loc[data['profession'] == 'Healthcare', ['salary']]\n",
    "Executive = data.loc[data['profession'] == 'Executive', ['salary']]"
   ]
  },
  {
   "cell_type": "code",
   "execution_count": 19,
   "metadata": {},
   "outputs": [
    {
     "data": {
      "image/png": "[encoded data removed]",
      "text/plain": [
       "<Figure size 600x600 with 1 Axes>"
      ]
     },
     "metadata": {},
     "output_type": "display_data"
    }
   ],
   "source": [
    "bins = 50\n",
    "plt.figure(figsize=(6, 6))\n",
    "plt.hist(Homemaker['salary'], bins=bins, alpha=0.9, edgecolor=\"black\", label=\"Homemaker\")\n",
    "plt.hist(Marketing['salary'], bins=bins, alpha=0.8, label=\"Marketing\")\n",
    "plt.hist(Healthcare['salary'], bins=bins, alpha=0.7, label=\"Healthcare\")\n",
    "plt.hist(Executive['salary'], bins=bins, alpha=0.6, label=\"Executive\")\n",
    "plt.legend(loc=\"upper right\")\n",
    "plt.show()"
   ]
  },
  {
   "cell_type": "code",
   "execution_count": 23,
   "metadata": {},
   "outputs": [
    {
     "name": "stdout",
     "output_type": "stream",
     "text": [
      "statistic = [7081.11212435], p-value = [0.]\n",
      "Разное распределение (отклоняем H0)\n",
      "Выборки отличаются статистически значимо\n"
     ]
    }
   ],
   "source": [
    "# Используем дисперсионнай анализ\n",
    "alpha = 0.01\n",
    "statistic, pvalue = stats.f_oneway(\n",
    "    Homemaker,\n",
    "    Marketing,\n",
    "    Healthcare,\n",
    "    Executive\n",
    ")\n",
    "\n",
    "print(\"statistic = {}, p-value = {}\".format(statistic, pvalue))\n",
    "\n",
    "if pvalue > alpha:  # Интерпретируем результат\n",
    "    print(\"Одинаковое распределение (не отвергаем H0)\")\n",
    "else:\n",
    "    print(\"Разное распределение (отклоняем H0)\")\n",
    "    print(\"Выборки отличаются статистически значимо\")"
   ]
  },
  {
   "cell_type": "code",
   "execution_count": 24,
   "metadata": {},
   "outputs": [
    {
     "name": "stdout",
     "output_type": "stream",
     "text": [
      "statistic = [1358.59776631], p-value = [2.83823469e-294]\n",
      "Разное распределение (отклоняем H0)\n",
      "Выборки отличаются статистически значимо\n"
     ]
    }
   ],
   "source": [
    "# Теперь вычисляем Крускал Уоллис тест\n",
    "statistic, pvalue = stats.kruskal(\n",
    "    Homemaker,\n",
    "    Marketing,\n",
    "    Healthcare,\n",
    "    Executive\n",
    ")\n",
    "\n",
    "print(\"statistic = {}, p-value = {}\".format(statistic, pvalue))\n",
    "\n",
    "if pvalue > alpha:  # Интерпретируем результат\n",
    "    print(\"Одинаковое распределение (не отвергаем H0)\")\n",
    "else:\n",
    "    print(\"Разное распределение (отклоняем H0)\")\n",
    "    print(\"Выборки отличаются статистически значимо\")"
   ]
  },
  {
   "cell_type": "raw",
   "metadata": {},
   "source": [
    "Ответ: группы отличаются"
   ]
  },
  {
   "cell_type": "markdown",
   "metadata": {},
   "source": [
    "<div class=\"alert alert-warning\">\n",
    "    \n",
    "* Правда ли между представителями таких профессий как, **Doctor**, **Entertainment** и **Lawyer** в среднем  зарплаты не отличаются между собой? Ответ подкрепите визуализацией и подходящим статистическим критерием. "
   ]
  },
  {
   "cell_type": "code",
   "execution_count": 25,
   "metadata": {},
   "outputs": [],
   "source": [
    "Doctor = data.loc[data['profession'] == 'Doctor', ['salary']]\n",
    "Entertainment = data.loc[data['profession'] == 'Entertainment', ['salary']]\n",
    "Lawyer = data.loc[data['profession'] == 'Lawyer', ['salary']]"
   ]
  },
  {
   "cell_type": "code",
   "execution_count": 26,
   "metadata": {},
   "outputs": [
    {
     "data": {
      "image/png": "[encoded data removed]",
      "text/plain": [
       "<Figure size 600x600 with 1 Axes>"
      ]
     },
     "metadata": {},
     "output_type": "display_data"
    }
   ],
   "source": [
    "bins = 50\n",
    "plt.figure(figsize=(6, 6))\n",
    "plt.hist(Doctor['salary'], bins=bins, alpha=0.9, edgecolor=\"black\", label=\"Doctor\")\n",
    "plt.hist(Entertainment['salary'], bins=bins, alpha=0.8, label=\"Entertainment\")\n",
    "plt.hist(Lawyer['salary'], bins=bins, alpha=0.7, label=\"Lawyer\")\n",
    "plt.legend(loc=\"upper right\")\n",
    "plt.show()"
   ]
  },
  {
   "cell_type": "code",
   "execution_count": 27,
   "metadata": {},
   "outputs": [
    {
     "name": "stdout",
     "output_type": "stream",
     "text": [
      "statistic = [52.04463345], p-value = [2.81602778e-22]\n",
      "Разное распределение (отклоняем H0)\n",
      "Выборки отличаются статистически значимо\n"
     ]
    }
   ],
   "source": [
    "# Используем дисперсионнай анализ\n",
    "alpha = 0.01\n",
    "statistic, pvalue = stats.f_oneway(\n",
    "    Doctor,\n",
    "    Entertainment,\n",
    "    Lawyer\n",
    ")\n",
    "\n",
    "print(\"statistic = {}, p-value = {}\".format(statistic, pvalue))\n",
    "\n",
    "if pvalue > alpha:  # Интерпретируем результат\n",
    "    print(\"Одинаковое распределение (не отвергаем H0)\")\n",
    "else:\n",
    "    print(\"Разное распределение (отклоняем H0)\")\n",
    "    print(\"Выборки отличаются статистически значимо\")"
   ]
  },
  {
   "cell_type": "code",
   "execution_count": 28,
   "metadata": {},
   "outputs": [
    {
     "name": "stdout",
     "output_type": "stream",
     "text": [
      "statistic = [88.25876418], p-value = [6.83679988e-20]\n",
      "Разное распределение (отклоняем H0)\n",
      "Выборки отличаются статистически значимо\n"
     ]
    }
   ],
   "source": [
    "# Теперь вычисляем Крускал Уоллис тест\n",
    "statistic, pvalue = stats.kruskal(\n",
    "    Doctor,\n",
    "    Entertainment,\n",
    "    Lawyer\n",
    ")\n",
    "\n",
    "print(\"statistic = {}, p-value = {}\".format(statistic, pvalue))\n",
    "\n",
    "if pvalue > alpha:  # Интерпретируем результат\n",
    "    print(\"Одинаковое распределение (не отвергаем H0)\")\n",
    "else:\n",
    "    print(\"Разное распределение (отклоняем H0)\")\n",
    "    print(\"Выборки отличаются статистически значимо\")"
   ]
  },
  {
   "cell_type": "raw",
   "metadata": {},
   "source": [
    "Ответ: группы отличаются"
   ]
  },
  {
   "cell_type": "markdown",
   "metadata": {},
   "source": [
    "<div class=\"alert alert-warning\">\n",
    "    \n",
    "Допустим вы рассматриваете 4 группы населения, отличающихся количеством  детей. Группы следующие.\n",
    "* **A** - нет детей\n",
    "* **B** - 1 ребенок\n",
    "* **C** - от 2 до 4 детей\n",
    "* **D** - от 5 детей    \n",
    "    \n",
    "    \n",
    "* Правда ли, что эти группы отличаются статистически значимо по уровню дохода и уровню счастья? Ответ поддержите статистическими критериями и визуализацией"
   ]
  },
  {
   "cell_type": "code",
   "execution_count": 41,
   "metadata": {},
   "outputs": [],
   "source": [
    "No_babies = data.loc[data['children'] == 0, ['salary', 'happyness']]\n",
    "One_baby = data.loc[data['children'] == 1, ['salary', 'happyness']]\n",
    "Two_four_baby = data.loc[data['children'].isin([2, 3, 4]), ['salary', 'happyness']]\n",
    "Five_baby = data.loc[data['children'] >= 5, ['salary', 'happyness']]"
   ]
  },
  {
   "cell_type": "code",
   "execution_count": 46,
   "metadata": {},
   "outputs": [
    {
     "data": {
      "image/png": "[encoded data removed]",
      "text/plain": [
       "<Figure size 600x600 with 1 Axes>"
      ]
     },
     "metadata": {},
     "output_type": "display_data"
    }
   ],
   "source": [
    "# по уровню дохода\n",
    "bins = 50\n",
    "plt.figure(figsize=(6, 6))\n",
    "plt.hist(No_babies['salary'], bins=bins, alpha=0.9, edgecolor=\"black\", label=\"No_babies\")\n",
    "plt.hist(One_baby['salary'], bins=bins, alpha=0.8, label=\"One_baby\")\n",
    "plt.hist(Two_four_baby['salary'], bins=bins, alpha=0.7, label=\"Two_four_baby\")\n",
    "plt.hist(Five_baby['salary'], bins=bins, alpha=0.7, label=\"Five_baby\")\n",
    "plt.legend(loc=\"upper right\")\n",
    "plt.show()"
   ]
  },
  {
   "cell_type": "code",
   "execution_count": 47,
   "metadata": {},
   "outputs": [
    {
     "data": {
      "image/png": "[encoded data removed]",
      "text/plain": [
       "<Figure size 600x600 with 1 Axes>"
      ]
     },
     "metadata": {},
     "output_type": "display_data"
    }
   ],
   "source": [
    "# по уровню счастья\n",
    "bins = 50\n",
    "plt.figure(figsize=(6, 6))\n",
    "plt.hist(No_babies['happyness'], bins=bins, alpha=0.9, edgecolor=\"black\", label=\"No_babies\")\n",
    "plt.hist(One_baby['happyness'], bins=bins, alpha=0.8, label=\"One_baby\")\n",
    "plt.hist(Two_four_baby['happyness'], bins=bins, alpha=0.7, label=\"Two_four_baby\")\n",
    "plt.hist(Five_baby['happyness'], bins=bins, alpha=0.7, label=\"Five_baby\")\n",
    "plt.legend(loc=\"upper right\")\n",
    "plt.show()"
   ]
  },
  {
   "cell_type": "code",
   "execution_count": 48,
   "metadata": {},
   "outputs": [
    {
     "name": "stdout",
     "output_type": "stream",
     "text": [
      "statistic = 543.557588452595, p-value = 6.772014742972024e-286\n",
      "Разное распределение (отклоняем H0)\n",
      "Выборки отличаются статистически значимо\n"
     ]
    }
   ],
   "source": [
    "# Используем дисперсионнай анализ для уровня дохода\n",
    "alpha = 0.01\n",
    "statistic, pvalue = stats.f_oneway(\n",
    "    No_babies['salary'],\n",
    "    One_baby['salary'],\n",
    "    Two_four_baby['salary'],\n",
    "    Five_baby['salary']\n",
    ")\n",
    "\n",
    "print(\"statistic = {}, p-value = {}\".format(statistic, pvalue))\n",
    "\n",
    "if pvalue > alpha:  # Интерпретируем результат\n",
    "    print(\"Одинаковое распределение (не отвергаем H0)\")\n",
    "else:\n",
    "    print(\"Разное распределение (отклоняем H0)\")\n",
    "    print(\"Выборки отличаются статистически значимо\")"
   ]
  },
  {
   "cell_type": "code",
   "execution_count": 50,
   "metadata": {},
   "outputs": [
    {
     "name": "stdout",
     "output_type": "stream",
     "text": [
      "statistic = 937.9603388669487, p-value = 5.164102737818152e-203\n",
      "Разное распределение (отклоняем H0)\n",
      "Выборки отличаются статистически значимо\n"
     ]
    }
   ],
   "source": [
    "# Теперь вычисляем Крускал Уоллис тест для уровня дохода\n",
    "statistic, pvalue = stats.kruskal(\n",
    "    No_babies['salary'],\n",
    "    One_baby['salary'],\n",
    "    Two_four_baby['salary'],\n",
    "    Five_baby['salary']\n",
    ")\n",
    "\n",
    "print(\"statistic = {}, p-value = {}\".format(statistic, pvalue))\n",
    "\n",
    "if pvalue > alpha:  # Интерпретируем результат\n",
    "    print(\"Одинаковое распределение (не отвергаем H0)\")\n",
    "else:\n",
    "    print(\"Разное распределение (отклоняем H0)\")\n",
    "    print(\"Выборки отличаются статистически значимо\")"
   ]
  },
  {
   "cell_type": "code",
   "execution_count": 49,
   "metadata": {},
   "outputs": [
    {
     "name": "stdout",
     "output_type": "stream",
     "text": [
      "statistic = 499.9182832642639, p-value = 9.141702251839256e-267\n",
      "Разное распределение (отклоняем H0)\n",
      "Выборки отличаются статистически значимо\n"
     ]
    }
   ],
   "source": [
    "# Используем дисперсионнай анализ для уровня счастья\n",
    "alpha = 0.01\n",
    "statistic, pvalue = stats.f_oneway(\n",
    "    No_babies['happyness'],\n",
    "    One_baby['happyness'],\n",
    "    Two_four_baby['happyness'],\n",
    "    Five_baby['happyness']\n",
    ")\n",
    "\n",
    "print(\"statistic = {}, p-value = {}\".format(statistic, pvalue))\n",
    "\n",
    "if pvalue > alpha:  # Интерпретируем результат\n",
    "    print(\"Одинаковое распределение (не отвергаем H0)\")\n",
    "else:\n",
    "    print(\"Разное распределение (отклоняем H0)\")\n",
    "    print(\"Выборки отличаются статистически значимо\")"
   ]
  },
  {
   "cell_type": "code",
   "execution_count": 51,
   "metadata": {},
   "outputs": [
    {
     "name": "stdout",
     "output_type": "stream",
     "text": [
      "statistic = 1015.281581795716, p-value = 8.710962956226647e-220\n",
      "Разное распределение (отклоняем H0)\n",
      "Выборки отличаются статистически значимо\n"
     ]
    }
   ],
   "source": [
    "# Теперь вычисляем Крускал Уоллис тест для уровня счастья\n",
    "statistic, pvalue = stats.kruskal(\n",
    "    No_babies['happyness'],\n",
    "    One_baby['happyness'],\n",
    "    Two_four_baby['happyness'],\n",
    "    Five_baby['happyness']\n",
    ")\n",
    "\n",
    "print(\"statistic = {}, p-value = {}\".format(statistic, pvalue))\n",
    "\n",
    "if pvalue > alpha:  # Интерпретируем результат\n",
    "    print(\"Одинаковое распределение (не отвергаем H0)\")\n",
    "else:\n",
    "    print(\"Разное распределение (отклоняем H0)\")\n",
    "    print(\"Выборки отличаются статистически значимо\")"
   ]
  },
  {
   "cell_type": "code",
   "execution_count": null,
   "metadata": {},
   "outputs": [],
   "source": [
    "Ответ: группы отличаются"
   ]
  }
 ],
 "metadata": {
  "kernelspec": {
   "display_name": "Python 3 (ipykernel)",
   "language": "python",
   "name": "python3"
  },
  "language_info": {
   "codemirror_mode": {
    "name": "ipython",
    "version": 3
   },
   "file_extension": ".py",
   "mimetype": "text/x-python",
   "name": "python",
   "nbconvert_exporter": "python",
   "pygments_lexer": "ipython3",
   "version": "3.13.1"
  },
  "toc": {
   "base_numbering": 1,
   "nav_menu": {},
   "number_sections": true,
   "sideBar": true,
   "skip_h1_title": false,
   "title_cell": "Table of Contents",
   "title_sidebar": "Contents",
   "toc_cell": false,
   "toc_position": {},
   "toc_section_display": true,
   "toc_window_display": false
  }
 },
 "nbformat": 4,
 "nbformat_minor": 4
}
