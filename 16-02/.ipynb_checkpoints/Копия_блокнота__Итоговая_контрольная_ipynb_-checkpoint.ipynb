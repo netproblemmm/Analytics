{
  "nbformat": 4,
  "nbformat_minor": 0,
  "metadata": {
    "colab": {
      "provenance": []
    },
    "kernelspec": {
      "name": "python3",
      "display_name": "Python 3"
    },
    "language_info": {
      "name": "python"
    }
  },
  "cells": [
    {
      "cell_type": "code",
      "execution_count": null,
      "metadata": {
        "id": "T81Uiv5Y3gjU"
      },
      "outputs": [],
      "source": [
        "import numpy as np\n",
        "import pandas as pd # для работы с таблицами\n",
        "import warnings\n",
        "import hashlib\n",
        "warnings.filterwarnings('ignore')\n",
        "\n",
        "from scipy import stats # при работе со статистикой\n",
        "import scipy.stats as stats\n",
        "\n",
        "import matplotlib.pyplot as plt # Библиотека для визуализации результатов\n",
        "%matplotlib inline\n",
        "import matplotlib.gridspec as gridspec\n",
        "import seaborn as sns # Более продвинутая библиотека для визуализации\n",
        "\n",
        "import statsmodels.api as sm\n",
        "import math"
      ]
    },
    {
      "cell_type": "markdown",
      "source": [
        "**2) Мы хотим провести А/Б-тест для трех источников трафика. Нынешняя конверсия равна 5%, мы ожидаем прирост в 0,2%.**\n",
        "**Уровень доверия 97% и уровень мощности 87%. Всего на наш продукт заходит 40 000 пользователей в месяц.**"
      ],
      "metadata": {
        "id": "pYNeZoXZWmQe"
      }
    },
    {
      "cell_type": "markdown",
      "source": [
        "**3) За сколько дней мы сможем протестировать гипотезу? И что вы можете посоветовать по результатам подсчета?**"
      ],
      "metadata": {
        "id": "nQRIsligLjx3"
      }
    },
    {
      "cell_type": "code",
      "source": [
        "p1 = 0.05\n",
        "p2 = 0.052\n",
        "alpha = 0.03\n",
        "beta = 0.13\n",
        "\n",
        "# Z-значения\n",
        "z_alpha = stats.norm.ppf(1 - alpha / 2)\n",
        "z_beta = stats.norm.ppf(1 - beta)\n",
        "\n",
        "# Размер выборки\n",
        "n = ((z_alpha + z_beta)**2 * (p1*(1 - p1) + p2*(1 - p2))) / ((p2 - p1)**2)\n",
        "\n",
        "# Количество пользователей\n",
        "total_users_month = 40000\n",
        "users_day = total_users_month / 30\n",
        "\n",
        "# Три источника трафика\n",
        "users_source_per_day = users_day * 3\n",
        "\n",
        "print(f\"Необходимый размер выборки для каждой группы: {n:.2f}\")\n",
        "print(f\"Количество пользователей, необходимое для теста на 1 источник трафика в день: {users_source_per_day:.2f}\")"
      ],
      "metadata": {
        "colab": {
          "base_uri": "https://localhost:8080/"
        },
        "id": "InMK6M20WWDm",
        "outputId": "3f667957-05f6-4479-b06e-f82f26bd023e"
      },
      "execution_count": null,
      "outputs": [
        {
          "output_type": "stream",
          "name": "stdout",
          "text": [
            "Необходимый размер выборки для каждой группы: 262965.46\n",
            "Количество пользователей, необходимое для теста на 1 источник трафика в день: 4000.00\n"
          ]
        }
      ]
    },
    {
      "cell_type": "markdown",
      "source": [
        "**3) За сколько дней мы сможем протестировать гипотезу? И что вы можете посоветовать по результатам подсчета?**"
      ],
      "metadata": {
        "id": "vhvLP3t9YkxM"
      }
    },
    {
      "cell_type": "code",
      "source": [
        "days_needed = n / users_source_per_day  # 30 дней в месяце\n",
        "print(f\"Количество дней для тестирования при общем количестве посетителей в месяц 40 000 человек:: {days_needed:.2f}\")"
      ],
      "metadata": {
        "colab": {
          "base_uri": "https://localhost:8080/"
        },
        "id": "7GjkBFehYvk9",
        "outputId": "5aa5ee65-30bc-4e6a-9488-6da10a89370f"
      },
      "execution_count": null,
      "outputs": [
        {
          "output_type": "stream",
          "name": "stdout",
          "text": [
            "Количество дней для тестирования при общем количестве посетителей в месяц 40 000 человек:: 65.74\n"
          ]
        }
      ]
    },
    {
      "cell_type": "markdown",
      "source": [
        "При планировании теста необходимо убедиться в достаточности количества времени для получения необходимых данных.\n",
        "\n",
        "Периодически отслеживайте прогресс теста, чтобы убедиться, что нет неожиданных событий, которые могут повлиять на результаты.\n",
        "\n",
        "Убедиться, что полученные результаты обладают необходимой статистической значимостью и поддерживают или опровергают исходную гипотезу.\n",
        "\n",
        "Основываясь на результатах теста, необходимо принять решение о дальнейших действиях"
      ],
      "metadata": {
        "id": "hhvIKf1ZWHtn"
      }
    },
    {
      "cell_type": "markdown",
      "source": [
        "**3.1) Допустим в задаче нет проблемы с количеством посетителей на сайт, тогда подведите результаты тестирования, если у нас следующие результаты по количеству конверсии**:\n",
        "\n",
        "**1) 25 000**\n",
        "\n",
        "**2) 30 000**\n",
        "\n",
        "**3) 32 000**"
      ],
      "metadata": {
        "id": "J7_zo_2iY8-P"
      }
    },
    {
      "cell_type": "code",
      "source": [
        "current_conversion_rate = 0.05  # Нынешняя конверсия (5%)\\n\",\n",
        "expected_increase = 0.002  # Ожидаемый прирост (0.2%)\\n\",\n",
        "total_users_month = 40000  # Общее количество пользователей\n",
        "conversions = [25000, 30000, 32000]\n",
        "conversion_vers = [conv / total_users_month for conv in conversions]\n",
        "\n",
        "alpha = 1-0.97 # Уровень доверия\n",
        "power = 0.87 # Уровень мощности\n",
        "\n",
        "# Функция для проведения A/B теста\n",
        "def ab_test(p1, observed_conversions, total_users_month, alpha, power):\n",
        "  p2 = observed_conversions / total_users_month\n",
        "  std1 = math.sqrt(p1 * (1 - p1) / total_users_month)\n",
        "  std2 = math.sqrt(p2 * (1 - p2) / total_users_month)\n",
        "  # Критические значения Z для доверительного интервала и мощности теста\\n\",\n",
        "  z_alpha = stats.norm.ppf(1 - alpha / 2)\n",
        "  z_beta = stats.norm.ppf(power)\n",
        "  # Z-статистика\n",
        "  z = (p2 - p1) / math.sqrt(std1 ** 2 + std2 ** 2)\n",
        "  # P-значение\n",
        "  p_value = 1 - stats.norm.cdf(z)\n",
        "  # Значим ли результат\n",
        "  significant = p_value < alpha\n",
        "  return p2, z, z_alpha, p_value, significant"
      ],
      "metadata": {
        "id": "3iVIUMrZVtUI"
      },
      "execution_count": null,
      "outputs": []
    },
    {
      "cell_type": "code",
      "source": [
        "results = []\n",
        "for conv in conversions:\n",
        "    p2, z, z_alpha, p_value, significant = ab_test(\n",
        "        current_conversion_rate, conv, total_users_month, alpha, power,\n",
        "    )\n",
        "    results.append({'конверсий': conv,\n",
        "                    'ожидаемая конверсия': round(p2 * 100, 2),\n",
        "                    'z-статистика': round(z, 5),\n",
        "                    'критическое значение z': round(z_alpha, 5),\n",
        "                    'p-значение': round(p_value, 5),\n",
        "                    'значим': significant\n",
        "    })\n",
        "print(results)"
      ],
      "metadata": {
        "colab": {
          "base_uri": "https://localhost:8080/"
        },
        "id": "RspdPOm2V2GQ",
        "outputId": "6520fa97-033e-497d-c070-38ddc8c245c0"
      },
      "execution_count": null,
      "outputs": [
        {
          "output_type": "stream",
          "name": "stdout",
          "text": [
            "[{'конверсий': 25000, 'ожидаемая конверсия': 62.5, 'z-статистика': 216.60554, 'критическое значение z': 2.17009, 'p-значение': 0.0, 'значим': True}, {'конверсий': 30000, 'ожидаемая конверсия': 75.0, 'z-статистика': 288.79795, 'критическое значение z': 2.17009, 'p-значение': 0.0, 'значим': True}, {'конверсий': 32000, 'ожидаемая конверсия': 80.0, 'z-статистика': 329.29278, 'критическое значение z': 2.17009, 'p-значение': 0.0, 'значим': True}]\n"
          ]
        }
      ]
    },
    {
      "cell_type": "markdown",
      "source": [
        "Все три источника трафика показали значительное превышение ожидаемого прироста конверсии. Z-статистика значительно превышает критическое значение, а p-значение равно нулю, что указывает на высокую статистическую значимость результатов. Улучшение конверсии по сравнению с текущей является значимым.\n"
      ],
      "metadata": {
        "id": "_YQhSOK_YBXv"
      }
    },
    {
      "cell_type": "markdown",
      "source": [
        "**4) Вы решили сравнивать метрику CPA в двух группах. Размер выборки - 2350 элементов в каждой группе.**\n",
        "**Для проверки нормальности распределения на выборке в 2350 наблюдений применили,**\n",
        "**критерий Шапиро-Уилка и получили p-value, равный 0.00002, alpha = 5%. **\n",
        "**Какой бы вывод мы могли сделать в данном случае?**\n",
        "\n",
        "**В этом случае какой статистический критерий для проверки первоначальной** **гипотезы тут лучше всего подойдёт и почему ?**"
      ],
      "metadata": {
        "id": "38ZCguK2erb-"
      }
    },
    {
      "cell_type": "markdown",
      "source": [
        "p-value = 0.00002, что значительно меньше alpha = 0.05. Нулевую гипотезу о нормальности распределения следует отвергнуть. Распределение данных не является нормальным.\n",
        "\n",
        "Данные не распределены нормально, следует использовать непараметрические методы для сравнения двух групп.\n",
        "\n",
        "Для проверки равенства средних подходят критерии Манна-Уитни, Уилкоксона и Краскера-Уолласа."
      ],
      "metadata": {
        "id": "-amKN12kdAuu"
      }
    },
    {
      "cell_type": "markdown",
      "source": [
        "**5) Мы провели АБ-тест на увеличение average timespent per user. По итогам тестирования мы**\n",
        "**получили следующие данные. Является ли результат статистически значимым с уровнем**\n",
        "**доверия 80%? Какую версию мы выкатим на продакшн?**\n",
        "\n",
        "**A) Средняя - 360, отклонение - 40, количество - 9802**\n",
        "\n",
        "**B) Средняя - 352, отклонение - 58, количество - 9789**"
      ],
      "metadata": {
        "id": "2I0bAr1mfkde"
      }
    },
    {
      "cell_type": "code",
      "source": [
        "mean_a = 360\n",
        "std_a = 40\n",
        "n_a = 9802\n",
        "\n",
        "mean_b = 352\n",
        "std_b = 58\n",
        "n_b = 9789\n",
        "\n",
        "# Стандартные ошибки\n",
        "se_a = std_a / math.sqrt(n_a)\n",
        "se_b = std_b / math.sqrt(n_b)\n",
        "\n",
        "# t-статистика и p-value\n",
        "t_stat, p_val = stats.ttest_ind_from_stats(mean1=mean_a, std1=std_a, nobs1=n_a,\n",
        "                                          mean2=mean_b, std2=std_b, nobs2=n_b,\n",
        "                                          equal_var=False)\n",
        "print(f\"T-статистика: {t_stat}\"),\n",
        "print(f\"P-value: {p_val}\")\n",
        "\n",
        "# Уровень доверия 80%\n",
        "alpha = 0.20\n",
        "if p_val < alpha:\n",
        "    print(\"Результат статистически значим. На продакшн выкати версию А.\"),\n",
        "    version_to_deploy = 'A',\n",
        "else:\n",
        "    print(\"Результат не является статистически значимым. Можно оставить текущую версию.\"),\n",
        "    version_to_deploy = 'B'"
      ],
      "metadata": {
        "colab": {
          "base_uri": "https://localhost:8080/"
        },
        "id": "hj-jqrLFY1Xf",
        "outputId": "2c75086e-44ea-498c-d27a-7451d2f31c28"
      },
      "execution_count": null,
      "outputs": [
        {
          "output_type": "stream",
          "name": "stdout",
          "text": [
            "T-статистика: 11.236630785707332\n",
            "P-value: 3.3977828784122323e-29\n",
            "Результат статистически значим. На продакшн выкати версию А.\n"
          ]
        }
      ]
    },
    {
      "cell_type": "markdown",
      "source": [
        "Рекомендуем выкатить на продакшн версию A, так как она показала лучшие результаты по average timespent per user.\n"
      ],
      "metadata": {
        "id": "cwXZvCfJarg3"
      }
    }
  ]
}